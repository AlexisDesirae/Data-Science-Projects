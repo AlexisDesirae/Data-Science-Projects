{
  "nbformat": 4,
  "nbformat_minor": 0,
  "metadata": {
    "colab": {
      "name": "Correlation between COVID 19 and a healthy diet Capstone Project.ipynb",
      "provenance": [],
      "collapsed_sections": [],
      "authorship_tag": "ABX9TyN1Qlv268wnL6sxuSF32tkb",
      "include_colab_link": true
    },
    "kernelspec": {
      "name": "python3",
      "display_name": "Python 3"
    },
    "language_info": {
      "name": "python"
    }
  },
  "cells": [
    {
      "cell_type": "markdown",
      "metadata": {
        "id": "view-in-github",
        "colab_type": "text"
      },
      "source": [
        "<a href=\"https://colab.research.google.com/github/AlexisDesirae/Data-Science-Projects/blob/main/Correlation_between_COVID_19_and_a_healthy_diet_Capstone_Project.ipynb\" target=\"_parent\"><img src=\"https://colab.research.google.com/assets/colab-badge.svg\" alt=\"Open In Colab\"/></a>"
      ]
    },
    {
      "cell_type": "markdown",
      "source": [
        "## **The correlation  between COVID 19 and a healthy diet**"
      ],
      "metadata": {
        "id": "YxraOg4lztsI"
      }
    },
    {
      "cell_type": "code",
      "source": [
        ""
      ],
      "metadata": {
        "id": "086cpJ-zSYGZ"
      },
      "execution_count": null,
      "outputs": []
    },
    {
      "cell_type": "markdown",
      "source": [
        "My dataset consists of different countries around the world and the percentage in kilograms in which they eat certain foods i.e meat, milk, animal products, treenuts, vegetables, etc. My dataset also includes data around the percent of obese and undernourished individuals in said countries along with the percentage of confirmed COVID cases, deaths, recoveries, and active cases.\n",
        "Using this dataset, I will analyze the effects that a healthy diet has on the percent of confirmed COVID cases, along with deaths, recoveries, and active cases.\n",
        "This data can be very helpful to food manufacturers and grocery stores as if it is found that healthier lifestyles has a positive impact on those who contract COVID 19 the manufacturers can make the determination on which foods they wish to prioritize when it comes to food production and grocery stores can make sure these options are in stock.\n"
      ],
      "metadata": {
        "id": "mzxjeOZcA6pP"
      }
    },
    {
      "cell_type": "markdown",
      "source": [
        "To begin, I will import the libraries that I plan to use\n",
        "\n",
        "*   Pandas- for analyzing data, loading different file objects, deleting columns from the DataFrame\n",
        "*   Numpy- for handing arrays\n",
        "*   Seaborn- for data visualization\n"
      ],
      "metadata": {
        "id": "xPiYDygABf_5"
      }
    },
    {
      "cell_type": "code",
      "execution_count": null,
      "metadata": {
        "id": "n41uf_mH-NqP"
      },
      "outputs": [],
      "source": [
        "import pandas as pd\n",
        "import numpy as np\n",
        "import seaborn as sns"
      ]
    },
    {
      "cell_type": "markdown",
      "source": [
        "Next, I will load my dataset \"Food Supply Quantity.\" I will create a varaiable out of the dataset and name it 'df'"
      ],
      "metadata": {
        "id": "APpvuneryn-7"
      }
    },
    {
      "cell_type": "code",
      "source": [
        "df = pd.read_csv('/content/Food_Supply_Quantity_kg_Data.csv')\n",
        "df"
      ],
      "metadata": {
        "colab": {
          "base_uri": "https://localhost:8080/",
          "height": 609
        },
        "id": "v31Y8UUK-USE",
        "outputId": "daa37e96-62b4-4daa-9027-7272e45f267c"
      },
      "execution_count": null,
      "outputs": [
        {
          "output_type": "execute_result",
          "data": {
            "text/plain": [
              "                                Country  Alcoholic Beverages  Animal fats  \\\n",
              "0                           Afghanistan               0.0014       0.1973   \n",
              "1                               Albania               1.6719       0.1357   \n",
              "2                               Algeria               0.2711       0.0282   \n",
              "3                                Angola               5.8087       0.0560   \n",
              "4                   Antigua and Barbuda               3.5764       0.0087   \n",
              "..                                  ...                  ...          ...   \n",
              "165  Venezuela (Bolivarian Republic of)               2.5952       0.0403   \n",
              "166                             Vietnam               1.4591       0.1640   \n",
              "167                               Yemen               0.0364       0.0446   \n",
              "168                              Zambia               5.7360       0.0829   \n",
              "169                            Zimbabwe               4.0552       0.0755   \n",
              "\n",
              "     Animal Products  Aquatic Products, Other  Cereals - Excluding Beer  \\\n",
              "0             9.4341                   0.0000                   24.8097   \n",
              "1            18.7684                   0.0000                    5.7817   \n",
              "2             9.6334                   0.0000                   13.6816   \n",
              "3             4.9278                   0.0000                    9.1085   \n",
              "4            16.6613                   0.0000                    5.9960   \n",
              "..               ...                      ...                       ...   \n",
              "165          14.7565                   0.0000                   12.9253   \n",
              "166           8.5765                   0.0042                   16.8740   \n",
              "167           5.7874                   0.0000                   27.2077   \n",
              "168           6.0197                   0.0000                   21.1938   \n",
              "169           8.1489                   0.0000                   22.6240   \n",
              "\n",
              "       Eggs  Fish, Seafood  Fruits - Excluding Wine    Meat  ...  Vegetables  \\\n",
              "0    0.2099         0.0350                   5.3495  1.2020  ...      6.7642   \n",
              "1    0.5815         0.2126                   6.7861  1.8845  ...     11.7753   \n",
              "2    0.5277         0.2416                   6.3801  1.1305  ...     11.6484   \n",
              "3    0.0587         1.7707                   6.0005  2.0571  ...      2.3041   \n",
              "4    0.2274         4.1489                  10.7451  5.6888  ...      5.4495   \n",
              "..      ...            ...                      ...     ...  ...         ...   \n",
              "165  0.3389         0.9456                   7.6460  3.8328  ...      4.1474   \n",
              "166  0.3077         2.6392                   5.9029  4.4382  ...     11.9508   \n",
              "167  0.2579         0.5240                   5.1344  2.7871  ...      3.2135   \n",
              "168  0.3399         1.6924                   1.0183  1.8427  ...      3.4649   \n",
              "169  0.2678         0.5518                   2.2000  2.6142  ...      2.3213   \n",
              "\n",
              "     Vegetal Products  Obesity  Undernourished  Confirmed    Deaths  \\\n",
              "0             40.5645      4.5            29.8   0.142134  0.006186   \n",
              "1             31.2304     22.3             6.2   2.967301  0.050951   \n",
              "2             40.3651     26.6             3.9   0.244897  0.006558   \n",
              "3             45.0722      6.8              25   0.061687  0.001461   \n",
              "4             33.3233     19.1             NaN   0.293878  0.007143   \n",
              "..                ...      ...             ...        ...       ...   \n",
              "165           35.2416     25.2            21.2   0.452585  0.004287   \n",
              "166           41.4232      2.1             9.3   0.002063  0.000036   \n",
              "167           44.2126     14.1            38.9   0.007131  0.002062   \n",
              "168           43.9789      6.5            46.7   0.334133  0.004564   \n",
              "169           41.8526     12.3            51.3   0.232033  0.008854   \n",
              "\n",
              "     Recovered    Active  Population  Unit (all except Population)  \n",
              "0     0.123374  0.012574  38928000.0                             %  \n",
              "1     1.792636  1.123714   2838000.0                             %  \n",
              "2     0.167572  0.070767  44357000.0                             %  \n",
              "3     0.056808  0.003419  32522000.0                             %  \n",
              "4     0.190816  0.095918     98000.0                             %  \n",
              "..         ...       ...         ...                           ...  \n",
              "165   0.424399  0.023899  28645000.0                             %  \n",
              "166   0.001526  0.000501  96209000.0                             %  \n",
              "167   0.004788  0.000282  29826000.0                             %  \n",
              "168   0.290524  0.039045  18384000.0                             %  \n",
              "169   0.190964  0.032214  14863000.0                             %  \n",
              "\n",
              "[170 rows x 32 columns]"
            ],
            "text/html": [
              "\n",
              "  <div id=\"df-e476dac8-37ff-4f35-b019-856c4c606e08\">\n",
              "    <div class=\"colab-df-container\">\n",
              "      <div>\n",
              "<style scoped>\n",
              "    .dataframe tbody tr th:only-of-type {\n",
              "        vertical-align: middle;\n",
              "    }\n",
              "\n",
              "    .dataframe tbody tr th {\n",
              "        vertical-align: top;\n",
              "    }\n",
              "\n",
              "    .dataframe thead th {\n",
              "        text-align: right;\n",
              "    }\n",
              "</style>\n",
              "<table border=\"1\" class=\"dataframe\">\n",
              "  <thead>\n",
              "    <tr style=\"text-align: right;\">\n",
              "      <th></th>\n",
              "      <th>Country</th>\n",
              "      <th>Alcoholic Beverages</th>\n",
              "      <th>Animal fats</th>\n",
              "      <th>Animal Products</th>\n",
              "      <th>Aquatic Products, Other</th>\n",
              "      <th>Cereals - Excluding Beer</th>\n",
              "      <th>Eggs</th>\n",
              "      <th>Fish, Seafood</th>\n",
              "      <th>Fruits - Excluding Wine</th>\n",
              "      <th>Meat</th>\n",
              "      <th>...</th>\n",
              "      <th>Vegetables</th>\n",
              "      <th>Vegetal Products</th>\n",
              "      <th>Obesity</th>\n",
              "      <th>Undernourished</th>\n",
              "      <th>Confirmed</th>\n",
              "      <th>Deaths</th>\n",
              "      <th>Recovered</th>\n",
              "      <th>Active</th>\n",
              "      <th>Population</th>\n",
              "      <th>Unit (all except Population)</th>\n",
              "    </tr>\n",
              "  </thead>\n",
              "  <tbody>\n",
              "    <tr>\n",
              "      <th>0</th>\n",
              "      <td>Afghanistan</td>\n",
              "      <td>0.0014</td>\n",
              "      <td>0.1973</td>\n",
              "      <td>9.4341</td>\n",
              "      <td>0.0000</td>\n",
              "      <td>24.8097</td>\n",
              "      <td>0.2099</td>\n",
              "      <td>0.0350</td>\n",
              "      <td>5.3495</td>\n",
              "      <td>1.2020</td>\n",
              "      <td>...</td>\n",
              "      <td>6.7642</td>\n",
              "      <td>40.5645</td>\n",
              "      <td>4.5</td>\n",
              "      <td>29.8</td>\n",
              "      <td>0.142134</td>\n",
              "      <td>0.006186</td>\n",
              "      <td>0.123374</td>\n",
              "      <td>0.012574</td>\n",
              "      <td>38928000.0</td>\n",
              "      <td>%</td>\n",
              "    </tr>\n",
              "    <tr>\n",
              "      <th>1</th>\n",
              "      <td>Albania</td>\n",
              "      <td>1.6719</td>\n",
              "      <td>0.1357</td>\n",
              "      <td>18.7684</td>\n",
              "      <td>0.0000</td>\n",
              "      <td>5.7817</td>\n",
              "      <td>0.5815</td>\n",
              "      <td>0.2126</td>\n",
              "      <td>6.7861</td>\n",
              "      <td>1.8845</td>\n",
              "      <td>...</td>\n",
              "      <td>11.7753</td>\n",
              "      <td>31.2304</td>\n",
              "      <td>22.3</td>\n",
              "      <td>6.2</td>\n",
              "      <td>2.967301</td>\n",
              "      <td>0.050951</td>\n",
              "      <td>1.792636</td>\n",
              "      <td>1.123714</td>\n",
              "      <td>2838000.0</td>\n",
              "      <td>%</td>\n",
              "    </tr>\n",
              "    <tr>\n",
              "      <th>2</th>\n",
              "      <td>Algeria</td>\n",
              "      <td>0.2711</td>\n",
              "      <td>0.0282</td>\n",
              "      <td>9.6334</td>\n",
              "      <td>0.0000</td>\n",
              "      <td>13.6816</td>\n",
              "      <td>0.5277</td>\n",
              "      <td>0.2416</td>\n",
              "      <td>6.3801</td>\n",
              "      <td>1.1305</td>\n",
              "      <td>...</td>\n",
              "      <td>11.6484</td>\n",
              "      <td>40.3651</td>\n",
              "      <td>26.6</td>\n",
              "      <td>3.9</td>\n",
              "      <td>0.244897</td>\n",
              "      <td>0.006558</td>\n",
              "      <td>0.167572</td>\n",
              "      <td>0.070767</td>\n",
              "      <td>44357000.0</td>\n",
              "      <td>%</td>\n",
              "    </tr>\n",
              "    <tr>\n",
              "      <th>3</th>\n",
              "      <td>Angola</td>\n",
              "      <td>5.8087</td>\n",
              "      <td>0.0560</td>\n",
              "      <td>4.9278</td>\n",
              "      <td>0.0000</td>\n",
              "      <td>9.1085</td>\n",
              "      <td>0.0587</td>\n",
              "      <td>1.7707</td>\n",
              "      <td>6.0005</td>\n",
              "      <td>2.0571</td>\n",
              "      <td>...</td>\n",
              "      <td>2.3041</td>\n",
              "      <td>45.0722</td>\n",
              "      <td>6.8</td>\n",
              "      <td>25</td>\n",
              "      <td>0.061687</td>\n",
              "      <td>0.001461</td>\n",
              "      <td>0.056808</td>\n",
              "      <td>0.003419</td>\n",
              "      <td>32522000.0</td>\n",
              "      <td>%</td>\n",
              "    </tr>\n",
              "    <tr>\n",
              "      <th>4</th>\n",
              "      <td>Antigua and Barbuda</td>\n",
              "      <td>3.5764</td>\n",
              "      <td>0.0087</td>\n",
              "      <td>16.6613</td>\n",
              "      <td>0.0000</td>\n",
              "      <td>5.9960</td>\n",
              "      <td>0.2274</td>\n",
              "      <td>4.1489</td>\n",
              "      <td>10.7451</td>\n",
              "      <td>5.6888</td>\n",
              "      <td>...</td>\n",
              "      <td>5.4495</td>\n",
              "      <td>33.3233</td>\n",
              "      <td>19.1</td>\n",
              "      <td>NaN</td>\n",
              "      <td>0.293878</td>\n",
              "      <td>0.007143</td>\n",
              "      <td>0.190816</td>\n",
              "      <td>0.095918</td>\n",
              "      <td>98000.0</td>\n",
              "      <td>%</td>\n",
              "    </tr>\n",
              "    <tr>\n",
              "      <th>...</th>\n",
              "      <td>...</td>\n",
              "      <td>...</td>\n",
              "      <td>...</td>\n",
              "      <td>...</td>\n",
              "      <td>...</td>\n",
              "      <td>...</td>\n",
              "      <td>...</td>\n",
              "      <td>...</td>\n",
              "      <td>...</td>\n",
              "      <td>...</td>\n",
              "      <td>...</td>\n",
              "      <td>...</td>\n",
              "      <td>...</td>\n",
              "      <td>...</td>\n",
              "      <td>...</td>\n",
              "      <td>...</td>\n",
              "      <td>...</td>\n",
              "      <td>...</td>\n",
              "      <td>...</td>\n",
              "      <td>...</td>\n",
              "      <td>...</td>\n",
              "    </tr>\n",
              "    <tr>\n",
              "      <th>165</th>\n",
              "      <td>Venezuela (Bolivarian Republic of)</td>\n",
              "      <td>2.5952</td>\n",
              "      <td>0.0403</td>\n",
              "      <td>14.7565</td>\n",
              "      <td>0.0000</td>\n",
              "      <td>12.9253</td>\n",
              "      <td>0.3389</td>\n",
              "      <td>0.9456</td>\n",
              "      <td>7.6460</td>\n",
              "      <td>3.8328</td>\n",
              "      <td>...</td>\n",
              "      <td>4.1474</td>\n",
              "      <td>35.2416</td>\n",
              "      <td>25.2</td>\n",
              "      <td>21.2</td>\n",
              "      <td>0.452585</td>\n",
              "      <td>0.004287</td>\n",
              "      <td>0.424399</td>\n",
              "      <td>0.023899</td>\n",
              "      <td>28645000.0</td>\n",
              "      <td>%</td>\n",
              "    </tr>\n",
              "    <tr>\n",
              "      <th>166</th>\n",
              "      <td>Vietnam</td>\n",
              "      <td>1.4591</td>\n",
              "      <td>0.1640</td>\n",
              "      <td>8.5765</td>\n",
              "      <td>0.0042</td>\n",
              "      <td>16.8740</td>\n",
              "      <td>0.3077</td>\n",
              "      <td>2.6392</td>\n",
              "      <td>5.9029</td>\n",
              "      <td>4.4382</td>\n",
              "      <td>...</td>\n",
              "      <td>11.9508</td>\n",
              "      <td>41.4232</td>\n",
              "      <td>2.1</td>\n",
              "      <td>9.3</td>\n",
              "      <td>0.002063</td>\n",
              "      <td>0.000036</td>\n",
              "      <td>0.001526</td>\n",
              "      <td>0.000501</td>\n",
              "      <td>96209000.0</td>\n",
              "      <td>%</td>\n",
              "    </tr>\n",
              "    <tr>\n",
              "      <th>167</th>\n",
              "      <td>Yemen</td>\n",
              "      <td>0.0364</td>\n",
              "      <td>0.0446</td>\n",
              "      <td>5.7874</td>\n",
              "      <td>0.0000</td>\n",
              "      <td>27.2077</td>\n",
              "      <td>0.2579</td>\n",
              "      <td>0.5240</td>\n",
              "      <td>5.1344</td>\n",
              "      <td>2.7871</td>\n",
              "      <td>...</td>\n",
              "      <td>3.2135</td>\n",
              "      <td>44.2126</td>\n",
              "      <td>14.1</td>\n",
              "      <td>38.9</td>\n",
              "      <td>0.007131</td>\n",
              "      <td>0.002062</td>\n",
              "      <td>0.004788</td>\n",
              "      <td>0.000282</td>\n",
              "      <td>29826000.0</td>\n",
              "      <td>%</td>\n",
              "    </tr>\n",
              "    <tr>\n",
              "      <th>168</th>\n",
              "      <td>Zambia</td>\n",
              "      <td>5.7360</td>\n",
              "      <td>0.0829</td>\n",
              "      <td>6.0197</td>\n",
              "      <td>0.0000</td>\n",
              "      <td>21.1938</td>\n",
              "      <td>0.3399</td>\n",
              "      <td>1.6924</td>\n",
              "      <td>1.0183</td>\n",
              "      <td>1.8427</td>\n",
              "      <td>...</td>\n",
              "      <td>3.4649</td>\n",
              "      <td>43.9789</td>\n",
              "      <td>6.5</td>\n",
              "      <td>46.7</td>\n",
              "      <td>0.334133</td>\n",
              "      <td>0.004564</td>\n",
              "      <td>0.290524</td>\n",
              "      <td>0.039045</td>\n",
              "      <td>18384000.0</td>\n",
              "      <td>%</td>\n",
              "    </tr>\n",
              "    <tr>\n",
              "      <th>169</th>\n",
              "      <td>Zimbabwe</td>\n",
              "      <td>4.0552</td>\n",
              "      <td>0.0755</td>\n",
              "      <td>8.1489</td>\n",
              "      <td>0.0000</td>\n",
              "      <td>22.6240</td>\n",
              "      <td>0.2678</td>\n",
              "      <td>0.5518</td>\n",
              "      <td>2.2000</td>\n",
              "      <td>2.6142</td>\n",
              "      <td>...</td>\n",
              "      <td>2.3213</td>\n",
              "      <td>41.8526</td>\n",
              "      <td>12.3</td>\n",
              "      <td>51.3</td>\n",
              "      <td>0.232033</td>\n",
              "      <td>0.008854</td>\n",
              "      <td>0.190964</td>\n",
              "      <td>0.032214</td>\n",
              "      <td>14863000.0</td>\n",
              "      <td>%</td>\n",
              "    </tr>\n",
              "  </tbody>\n",
              "</table>\n",
              "<p>170 rows × 32 columns</p>\n",
              "</div>\n",
              "      <button class=\"colab-df-convert\" onclick=\"convertToInteractive('df-e476dac8-37ff-4f35-b019-856c4c606e08')\"\n",
              "              title=\"Convert this dataframe to an interactive table.\"\n",
              "              style=\"display:none;\">\n",
              "        \n",
              "  <svg xmlns=\"http://www.w3.org/2000/svg\" height=\"24px\"viewBox=\"0 0 24 24\"\n",
              "       width=\"24px\">\n",
              "    <path d=\"M0 0h24v24H0V0z\" fill=\"none\"/>\n",
              "    <path d=\"M18.56 5.44l.94 2.06.94-2.06 2.06-.94-2.06-.94-.94-2.06-.94 2.06-2.06.94zm-11 1L8.5 8.5l.94-2.06 2.06-.94-2.06-.94L8.5 2.5l-.94 2.06-2.06.94zm10 10l.94 2.06.94-2.06 2.06-.94-2.06-.94-.94-2.06-.94 2.06-2.06.94z\"/><path d=\"M17.41 7.96l-1.37-1.37c-.4-.4-.92-.59-1.43-.59-.52 0-1.04.2-1.43.59L10.3 9.45l-7.72 7.72c-.78.78-.78 2.05 0 2.83L4 21.41c.39.39.9.59 1.41.59.51 0 1.02-.2 1.41-.59l7.78-7.78 2.81-2.81c.8-.78.8-2.07 0-2.86zM5.41 20L4 18.59l7.72-7.72 1.47 1.35L5.41 20z\"/>\n",
              "  </svg>\n",
              "      </button>\n",
              "      \n",
              "  <style>\n",
              "    .colab-df-container {\n",
              "      display:flex;\n",
              "      flex-wrap:wrap;\n",
              "      gap: 12px;\n",
              "    }\n",
              "\n",
              "    .colab-df-convert {\n",
              "      background-color: #E8F0FE;\n",
              "      border: none;\n",
              "      border-radius: 50%;\n",
              "      cursor: pointer;\n",
              "      display: none;\n",
              "      fill: #1967D2;\n",
              "      height: 32px;\n",
              "      padding: 0 0 0 0;\n",
              "      width: 32px;\n",
              "    }\n",
              "\n",
              "    .colab-df-convert:hover {\n",
              "      background-color: #E2EBFA;\n",
              "      box-shadow: 0px 1px 2px rgba(60, 64, 67, 0.3), 0px 1px 3px 1px rgba(60, 64, 67, 0.15);\n",
              "      fill: #174EA6;\n",
              "    }\n",
              "\n",
              "    [theme=dark] .colab-df-convert {\n",
              "      background-color: #3B4455;\n",
              "      fill: #D2E3FC;\n",
              "    }\n",
              "\n",
              "    [theme=dark] .colab-df-convert:hover {\n",
              "      background-color: #434B5C;\n",
              "      box-shadow: 0px 1px 3px 1px rgba(0, 0, 0, 0.15);\n",
              "      filter: drop-shadow(0px 1px 2px rgba(0, 0, 0, 0.3));\n",
              "      fill: #FFFFFF;\n",
              "    }\n",
              "  </style>\n",
              "\n",
              "      <script>\n",
              "        const buttonEl =\n",
              "          document.querySelector('#df-e476dac8-37ff-4f35-b019-856c4c606e08 button.colab-df-convert');\n",
              "        buttonEl.style.display =\n",
              "          google.colab.kernel.accessAllowed ? 'block' : 'none';\n",
              "\n",
              "        async function convertToInteractive(key) {\n",
              "          const element = document.querySelector('#df-e476dac8-37ff-4f35-b019-856c4c606e08');\n",
              "          const dataTable =\n",
              "            await google.colab.kernel.invokeFunction('convertToInteractive',\n",
              "                                                     [key], {});\n",
              "          if (!dataTable) return;\n",
              "\n",
              "          const docLinkHtml = 'Like what you see? Visit the ' +\n",
              "            '<a target=\"_blank\" href=https://colab.research.google.com/notebooks/data_table.ipynb>data table notebook</a>'\n",
              "            + ' to learn more about interactive tables.';\n",
              "          element.innerHTML = '';\n",
              "          dataTable['output_type'] = 'display_data';\n",
              "          await google.colab.output.renderOutput(dataTable, element);\n",
              "          const docLink = document.createElement('div');\n",
              "          docLink.innerHTML = docLinkHtml;\n",
              "          element.appendChild(docLink);\n",
              "        }\n",
              "      </script>\n",
              "    </div>\n",
              "  </div>\n",
              "  "
            ]
          },
          "metadata": {},
          "execution_count": 102
        }
      ]
    },
    {
      "cell_type": "markdown",
      "source": [
        "I will now begin exploratory data analysis where I seek to explore and understand the data"
      ],
      "metadata": {
        "id": "vvrp9hv7CP0H"
      }
    },
    {
      "cell_type": "markdown",
      "source": [
        "I will use the Head() Method to return the top five rows in my dataset. This will show me each column name"
      ],
      "metadata": {
        "id": "yGi_MT4aCqB0"
      }
    },
    {
      "cell_type": "code",
      "source": [
        "df.head()"
      ],
      "metadata": {
        "colab": {
          "base_uri": "https://localhost:8080/",
          "height": 369
        },
        "id": "vFS9GvsYFUbR",
        "outputId": "dabaeea2-031e-4cb4-e080-14ef8aace079"
      },
      "execution_count": null,
      "outputs": [
        {
          "output_type": "execute_result",
          "data": {
            "text/plain": [
              "               Country  Alcoholic Beverages  Animal fats  Animal Products  \\\n",
              "0          Afghanistan               0.0014       0.1973           9.4341   \n",
              "1              Albania               1.6719       0.1357          18.7684   \n",
              "2              Algeria               0.2711       0.0282           9.6334   \n",
              "3               Angola               5.8087       0.0560           4.9278   \n",
              "4  Antigua and Barbuda               3.5764       0.0087          16.6613   \n",
              "\n",
              "   Aquatic Products, Other  Cereals - Excluding Beer    Eggs  Fish, Seafood  \\\n",
              "0                      0.0                   24.8097  0.2099         0.0350   \n",
              "1                      0.0                    5.7817  0.5815         0.2126   \n",
              "2                      0.0                   13.6816  0.5277         0.2416   \n",
              "3                      0.0                    9.1085  0.0587         1.7707   \n",
              "4                      0.0                    5.9960  0.2274         4.1489   \n",
              "\n",
              "   Fruits - Excluding Wine    Meat  ...  Vegetables  Vegetal Products  \\\n",
              "0                   5.3495  1.2020  ...      6.7642           40.5645   \n",
              "1                   6.7861  1.8845  ...     11.7753           31.2304   \n",
              "2                   6.3801  1.1305  ...     11.6484           40.3651   \n",
              "3                   6.0005  2.0571  ...      2.3041           45.0722   \n",
              "4                  10.7451  5.6888  ...      5.4495           33.3233   \n",
              "\n",
              "   Obesity  Undernourished  Confirmed    Deaths  Recovered    Active  \\\n",
              "0      4.5            29.8   0.142134  0.006186   0.123374  0.012574   \n",
              "1     22.3             6.2   2.967301  0.050951   1.792636  1.123714   \n",
              "2     26.6             3.9   0.244897  0.006558   0.167572  0.070767   \n",
              "3      6.8              25   0.061687  0.001461   0.056808  0.003419   \n",
              "4     19.1             NaN   0.293878  0.007143   0.190816  0.095918   \n",
              "\n",
              "   Population  Unit (all except Population)  \n",
              "0  38928000.0                             %  \n",
              "1   2838000.0                             %  \n",
              "2  44357000.0                             %  \n",
              "3  32522000.0                             %  \n",
              "4     98000.0                             %  \n",
              "\n",
              "[5 rows x 32 columns]"
            ],
            "text/html": [
              "\n",
              "  <div id=\"df-298fad63-f449-4556-9f03-350b6550769d\">\n",
              "    <div class=\"colab-df-container\">\n",
              "      <div>\n",
              "<style scoped>\n",
              "    .dataframe tbody tr th:only-of-type {\n",
              "        vertical-align: middle;\n",
              "    }\n",
              "\n",
              "    .dataframe tbody tr th {\n",
              "        vertical-align: top;\n",
              "    }\n",
              "\n",
              "    .dataframe thead th {\n",
              "        text-align: right;\n",
              "    }\n",
              "</style>\n",
              "<table border=\"1\" class=\"dataframe\">\n",
              "  <thead>\n",
              "    <tr style=\"text-align: right;\">\n",
              "      <th></th>\n",
              "      <th>Country</th>\n",
              "      <th>Alcoholic Beverages</th>\n",
              "      <th>Animal fats</th>\n",
              "      <th>Animal Products</th>\n",
              "      <th>Aquatic Products, Other</th>\n",
              "      <th>Cereals - Excluding Beer</th>\n",
              "      <th>Eggs</th>\n",
              "      <th>Fish, Seafood</th>\n",
              "      <th>Fruits - Excluding Wine</th>\n",
              "      <th>Meat</th>\n",
              "      <th>...</th>\n",
              "      <th>Vegetables</th>\n",
              "      <th>Vegetal Products</th>\n",
              "      <th>Obesity</th>\n",
              "      <th>Undernourished</th>\n",
              "      <th>Confirmed</th>\n",
              "      <th>Deaths</th>\n",
              "      <th>Recovered</th>\n",
              "      <th>Active</th>\n",
              "      <th>Population</th>\n",
              "      <th>Unit (all except Population)</th>\n",
              "    </tr>\n",
              "  </thead>\n",
              "  <tbody>\n",
              "    <tr>\n",
              "      <th>0</th>\n",
              "      <td>Afghanistan</td>\n",
              "      <td>0.0014</td>\n",
              "      <td>0.1973</td>\n",
              "      <td>9.4341</td>\n",
              "      <td>0.0</td>\n",
              "      <td>24.8097</td>\n",
              "      <td>0.2099</td>\n",
              "      <td>0.0350</td>\n",
              "      <td>5.3495</td>\n",
              "      <td>1.2020</td>\n",
              "      <td>...</td>\n",
              "      <td>6.7642</td>\n",
              "      <td>40.5645</td>\n",
              "      <td>4.5</td>\n",
              "      <td>29.8</td>\n",
              "      <td>0.142134</td>\n",
              "      <td>0.006186</td>\n",
              "      <td>0.123374</td>\n",
              "      <td>0.012574</td>\n",
              "      <td>38928000.0</td>\n",
              "      <td>%</td>\n",
              "    </tr>\n",
              "    <tr>\n",
              "      <th>1</th>\n",
              "      <td>Albania</td>\n",
              "      <td>1.6719</td>\n",
              "      <td>0.1357</td>\n",
              "      <td>18.7684</td>\n",
              "      <td>0.0</td>\n",
              "      <td>5.7817</td>\n",
              "      <td>0.5815</td>\n",
              "      <td>0.2126</td>\n",
              "      <td>6.7861</td>\n",
              "      <td>1.8845</td>\n",
              "      <td>...</td>\n",
              "      <td>11.7753</td>\n",
              "      <td>31.2304</td>\n",
              "      <td>22.3</td>\n",
              "      <td>6.2</td>\n",
              "      <td>2.967301</td>\n",
              "      <td>0.050951</td>\n",
              "      <td>1.792636</td>\n",
              "      <td>1.123714</td>\n",
              "      <td>2838000.0</td>\n",
              "      <td>%</td>\n",
              "    </tr>\n",
              "    <tr>\n",
              "      <th>2</th>\n",
              "      <td>Algeria</td>\n",
              "      <td>0.2711</td>\n",
              "      <td>0.0282</td>\n",
              "      <td>9.6334</td>\n",
              "      <td>0.0</td>\n",
              "      <td>13.6816</td>\n",
              "      <td>0.5277</td>\n",
              "      <td>0.2416</td>\n",
              "      <td>6.3801</td>\n",
              "      <td>1.1305</td>\n",
              "      <td>...</td>\n",
              "      <td>11.6484</td>\n",
              "      <td>40.3651</td>\n",
              "      <td>26.6</td>\n",
              "      <td>3.9</td>\n",
              "      <td>0.244897</td>\n",
              "      <td>0.006558</td>\n",
              "      <td>0.167572</td>\n",
              "      <td>0.070767</td>\n",
              "      <td>44357000.0</td>\n",
              "      <td>%</td>\n",
              "    </tr>\n",
              "    <tr>\n",
              "      <th>3</th>\n",
              "      <td>Angola</td>\n",
              "      <td>5.8087</td>\n",
              "      <td>0.0560</td>\n",
              "      <td>4.9278</td>\n",
              "      <td>0.0</td>\n",
              "      <td>9.1085</td>\n",
              "      <td>0.0587</td>\n",
              "      <td>1.7707</td>\n",
              "      <td>6.0005</td>\n",
              "      <td>2.0571</td>\n",
              "      <td>...</td>\n",
              "      <td>2.3041</td>\n",
              "      <td>45.0722</td>\n",
              "      <td>6.8</td>\n",
              "      <td>25</td>\n",
              "      <td>0.061687</td>\n",
              "      <td>0.001461</td>\n",
              "      <td>0.056808</td>\n",
              "      <td>0.003419</td>\n",
              "      <td>32522000.0</td>\n",
              "      <td>%</td>\n",
              "    </tr>\n",
              "    <tr>\n",
              "      <th>4</th>\n",
              "      <td>Antigua and Barbuda</td>\n",
              "      <td>3.5764</td>\n",
              "      <td>0.0087</td>\n",
              "      <td>16.6613</td>\n",
              "      <td>0.0</td>\n",
              "      <td>5.9960</td>\n",
              "      <td>0.2274</td>\n",
              "      <td>4.1489</td>\n",
              "      <td>10.7451</td>\n",
              "      <td>5.6888</td>\n",
              "      <td>...</td>\n",
              "      <td>5.4495</td>\n",
              "      <td>33.3233</td>\n",
              "      <td>19.1</td>\n",
              "      <td>NaN</td>\n",
              "      <td>0.293878</td>\n",
              "      <td>0.007143</td>\n",
              "      <td>0.190816</td>\n",
              "      <td>0.095918</td>\n",
              "      <td>98000.0</td>\n",
              "      <td>%</td>\n",
              "    </tr>\n",
              "  </tbody>\n",
              "</table>\n",
              "<p>5 rows × 32 columns</p>\n",
              "</div>\n",
              "      <button class=\"colab-df-convert\" onclick=\"convertToInteractive('df-298fad63-f449-4556-9f03-350b6550769d')\"\n",
              "              title=\"Convert this dataframe to an interactive table.\"\n",
              "              style=\"display:none;\">\n",
              "        \n",
              "  <svg xmlns=\"http://www.w3.org/2000/svg\" height=\"24px\"viewBox=\"0 0 24 24\"\n",
              "       width=\"24px\">\n",
              "    <path d=\"M0 0h24v24H0V0z\" fill=\"none\"/>\n",
              "    <path d=\"M18.56 5.44l.94 2.06.94-2.06 2.06-.94-2.06-.94-.94-2.06-.94 2.06-2.06.94zm-11 1L8.5 8.5l.94-2.06 2.06-.94-2.06-.94L8.5 2.5l-.94 2.06-2.06.94zm10 10l.94 2.06.94-2.06 2.06-.94-2.06-.94-.94-2.06-.94 2.06-2.06.94z\"/><path d=\"M17.41 7.96l-1.37-1.37c-.4-.4-.92-.59-1.43-.59-.52 0-1.04.2-1.43.59L10.3 9.45l-7.72 7.72c-.78.78-.78 2.05 0 2.83L4 21.41c.39.39.9.59 1.41.59.51 0 1.02-.2 1.41-.59l7.78-7.78 2.81-2.81c.8-.78.8-2.07 0-2.86zM5.41 20L4 18.59l7.72-7.72 1.47 1.35L5.41 20z\"/>\n",
              "  </svg>\n",
              "      </button>\n",
              "      \n",
              "  <style>\n",
              "    .colab-df-container {\n",
              "      display:flex;\n",
              "      flex-wrap:wrap;\n",
              "      gap: 12px;\n",
              "    }\n",
              "\n",
              "    .colab-df-convert {\n",
              "      background-color: #E8F0FE;\n",
              "      border: none;\n",
              "      border-radius: 50%;\n",
              "      cursor: pointer;\n",
              "      display: none;\n",
              "      fill: #1967D2;\n",
              "      height: 32px;\n",
              "      padding: 0 0 0 0;\n",
              "      width: 32px;\n",
              "    }\n",
              "\n",
              "    .colab-df-convert:hover {\n",
              "      background-color: #E2EBFA;\n",
              "      box-shadow: 0px 1px 2px rgba(60, 64, 67, 0.3), 0px 1px 3px 1px rgba(60, 64, 67, 0.15);\n",
              "      fill: #174EA6;\n",
              "    }\n",
              "\n",
              "    [theme=dark] .colab-df-convert {\n",
              "      background-color: #3B4455;\n",
              "      fill: #D2E3FC;\n",
              "    }\n",
              "\n",
              "    [theme=dark] .colab-df-convert:hover {\n",
              "      background-color: #434B5C;\n",
              "      box-shadow: 0px 1px 3px 1px rgba(0, 0, 0, 0.15);\n",
              "      filter: drop-shadow(0px 1px 2px rgba(0, 0, 0, 0.3));\n",
              "      fill: #FFFFFF;\n",
              "    }\n",
              "  </style>\n",
              "\n",
              "      <script>\n",
              "        const buttonEl =\n",
              "          document.querySelector('#df-298fad63-f449-4556-9f03-350b6550769d button.colab-df-convert');\n",
              "        buttonEl.style.display =\n",
              "          google.colab.kernel.accessAllowed ? 'block' : 'none';\n",
              "\n",
              "        async function convertToInteractive(key) {\n",
              "          const element = document.querySelector('#df-298fad63-f449-4556-9f03-350b6550769d');\n",
              "          const dataTable =\n",
              "            await google.colab.kernel.invokeFunction('convertToInteractive',\n",
              "                                                     [key], {});\n",
              "          if (!dataTable) return;\n",
              "\n",
              "          const docLinkHtml = 'Like what you see? Visit the ' +\n",
              "            '<a target=\"_blank\" href=https://colab.research.google.com/notebooks/data_table.ipynb>data table notebook</a>'\n",
              "            + ' to learn more about interactive tables.';\n",
              "          element.innerHTML = '';\n",
              "          dataTable['output_type'] = 'display_data';\n",
              "          await google.colab.output.renderOutput(dataTable, element);\n",
              "          const docLink = document.createElement('div');\n",
              "          docLink.innerHTML = docLinkHtml;\n",
              "          element.appendChild(docLink);\n",
              "        }\n",
              "      </script>\n",
              "    </div>\n",
              "  </div>\n",
              "  "
            ]
          },
          "metadata": {},
          "execution_count": 103
        }
      ]
    },
    {
      "cell_type": "markdown",
      "source": [
        "I use Shape Method() and Info() Method to find out how many rows and columns are in my dataset\n",
        "\n"
      ],
      "metadata": {
        "id": "9u_Cfx0GFX6X"
      }
    },
    {
      "cell_type": "code",
      "source": [
        "df.shape"
      ],
      "metadata": {
        "colab": {
          "base_uri": "https://localhost:8080/"
        },
        "id": "nmQSqYPTF2No",
        "outputId": "a5719d80-1202-4fa8-8be8-82aaa76ff71b"
      },
      "execution_count": null,
      "outputs": [
        {
          "output_type": "execute_result",
          "data": {
            "text/plain": [
              "(170, 32)"
            ]
          },
          "metadata": {},
          "execution_count": 104
        }
      ]
    },
    {
      "cell_type": "code",
      "source": [
        "df.info()"
      ],
      "metadata": {
        "colab": {
          "base_uri": "https://localhost:8080/"
        },
        "id": "KYmbLuzhFZgC",
        "outputId": "46a664dd-8cf4-4bb1-ac00-2a5e3965728a"
      },
      "execution_count": null,
      "outputs": [
        {
          "output_type": "stream",
          "name": "stdout",
          "text": [
            "<class 'pandas.core.frame.DataFrame'>\n",
            "RangeIndex: 170 entries, 0 to 169\n",
            "Data columns (total 32 columns):\n",
            " #   Column                        Non-Null Count  Dtype  \n",
            "---  ------                        --------------  -----  \n",
            " 0   Country                       170 non-null    object \n",
            " 1   Alcoholic Beverages           170 non-null    float64\n",
            " 2   Animal fats                   170 non-null    float64\n",
            " 3   Animal Products               170 non-null    float64\n",
            " 4   Aquatic Products, Other       170 non-null    float64\n",
            " 5   Cereals - Excluding Beer      170 non-null    float64\n",
            " 6   Eggs                          170 non-null    float64\n",
            " 7   Fish, Seafood                 170 non-null    float64\n",
            " 8   Fruits - Excluding Wine       170 non-null    float64\n",
            " 9   Meat                          170 non-null    float64\n",
            " 10  Milk - Excluding Butter       170 non-null    float64\n",
            " 11  Miscellaneous                 170 non-null    float64\n",
            " 12  Offals                        170 non-null    float64\n",
            " 13  Oilcrops                      170 non-null    float64\n",
            " 14  Pulses                        170 non-null    float64\n",
            " 15  Spices                        170 non-null    float64\n",
            " 16  Starchy Roots                 170 non-null    float64\n",
            " 17  Stimulants                    170 non-null    float64\n",
            " 18  Sugar & Sweeteners            170 non-null    float64\n",
            " 19  Sugar Crops                   170 non-null    float64\n",
            " 20  Treenuts                      170 non-null    float64\n",
            " 21  Vegetable Oils                170 non-null    float64\n",
            " 22  Vegetables                    170 non-null    float64\n",
            " 23  Vegetal Products              170 non-null    float64\n",
            " 24  Obesity                       167 non-null    float64\n",
            " 25  Undernourished                163 non-null    object \n",
            " 26  Confirmed                     164 non-null    float64\n",
            " 27  Deaths                        164 non-null    float64\n",
            " 28  Recovered                     164 non-null    float64\n",
            " 29  Active                        162 non-null    float64\n",
            " 30  Population                    170 non-null    float64\n",
            " 31  Unit (all except Population)  170 non-null    object \n",
            "dtypes: float64(29), object(3)\n",
            "memory usage: 42.6+ KB\n"
          ]
        }
      ]
    },
    {
      "cell_type": "markdown",
      "source": [
        "From the Info() Method I see that there are some null values so I use df.isnull().sum to confirm the number of null values. I take a look at the raw data and see that there are NA where there should be a number. Even if a category doesn't apply there should be a 0 rather than NA"
      ],
      "metadata": {
        "id": "kUtmI9JKlayK"
      }
    },
    {
      "cell_type": "code",
      "source": [
        "df.isnull().sum()"
      ],
      "metadata": {
        "colab": {
          "base_uri": "https://localhost:8080/"
        },
        "id": "gwug0IBOkzOD",
        "outputId": "c615a99c-e0a0-4dd4-9a12-5565617d8c1c"
      },
      "execution_count": null,
      "outputs": [
        {
          "output_type": "execute_result",
          "data": {
            "text/plain": [
              "Country                         0\n",
              "Alcoholic Beverages             0\n",
              "Animal fats                     0\n",
              "Animal Products                 0\n",
              "Aquatic Products, Other         0\n",
              "Cereals - Excluding Beer        0\n",
              "Eggs                            0\n",
              "Fish, Seafood                   0\n",
              "Fruits - Excluding Wine         0\n",
              "Meat                            0\n",
              "Milk - Excluding Butter         0\n",
              "Miscellaneous                   0\n",
              "Offals                          0\n",
              "Oilcrops                        0\n",
              "Pulses                          0\n",
              "Spices                          0\n",
              "Starchy Roots                   0\n",
              "Stimulants                      0\n",
              "Sugar & Sweeteners              0\n",
              "Sugar Crops                     0\n",
              "Treenuts                        0\n",
              "Vegetable Oils                  0\n",
              "Vegetables                      0\n",
              "Vegetal Products                0\n",
              "Obesity                         3\n",
              "Undernourished                  7\n",
              "Confirmed                       6\n",
              "Deaths                          6\n",
              "Recovered                       6\n",
              "Active                          8\n",
              "Population                      0\n",
              "Unit (all except Population)    0\n",
              "dtype: int64"
            ]
          },
          "metadata": {},
          "execution_count": 106
        }
      ]
    },
    {
      "cell_type": "markdown",
      "source": [
        "I will fill the NAs in the obesity, undernourished, confirmed, deaths, recovered, and active columns with the mean of each respective column using Mean() Method"
      ],
      "metadata": {
        "id": "wIGRnlKel-Aa"
      }
    },
    {
      "cell_type": "code",
      "source": [
        "mean_value=df['Obesity'].mean()"
      ],
      "metadata": {
        "id": "DgO0NY0Sm4kD"
      },
      "execution_count": null,
      "outputs": []
    },
    {
      "cell_type": "code",
      "source": [
        "df['Obesity'].fillna(value=mean_value, inplace=True)\n",
        "print(df['Obesity'])"
      ],
      "metadata": {
        "colab": {
          "base_uri": "https://localhost:8080/"
        },
        "id": "pq38vqSPpWh9",
        "outputId": "581fb864-4ae7-4757-c41d-c08c6086063c"
      },
      "execution_count": null,
      "outputs": [
        {
          "output_type": "stream",
          "name": "stdout",
          "text": [
            "0       4.5\n",
            "1      22.3\n",
            "2      26.6\n",
            "3       6.8\n",
            "4      19.1\n",
            "       ... \n",
            "165    25.2\n",
            "166     2.1\n",
            "167    14.1\n",
            "168     6.5\n",
            "169    12.3\n",
            "Name: Obesity, Length: 170, dtype: float64\n"
          ]
        }
      ]
    },
    {
      "cell_type": "code",
      "source": [
        "mean_value=df['Confirmed'].mean()"
      ],
      "metadata": {
        "id": "7HGSX-A2p0qy"
      },
      "execution_count": null,
      "outputs": []
    },
    {
      "cell_type": "code",
      "source": [
        "df['Confirmed'].fillna(value=mean_value, inplace=True)\n",
        "print(df['Confirmed'])"
      ],
      "metadata": {
        "colab": {
          "base_uri": "https://localhost:8080/"
        },
        "id": "wVd3PQGSrnev",
        "outputId": "2f7a67e0-207c-4343-f7ac-370ec7d54bd6"
      },
      "execution_count": null,
      "outputs": [
        {
          "output_type": "stream",
          "name": "stdout",
          "text": [
            "0      0.142134\n",
            "1      2.967301\n",
            "2      0.244897\n",
            "3      0.061687\n",
            "4      0.293878\n",
            "         ...   \n",
            "165    0.452585\n",
            "166    0.002063\n",
            "167    0.007131\n",
            "168    0.334133\n",
            "169    0.232033\n",
            "Name: Confirmed, Length: 170, dtype: float64\n"
          ]
        }
      ]
    },
    {
      "cell_type": "markdown",
      "source": [
        "Here is where I ran into a bug. The Undernourished column is an object rather than a float therefore I couldn't concocatenate a string (not integer) to a string. So I must convert this object into a float. I will do so using to_numeric"
      ],
      "metadata": {
        "id": "ivQlSD7YuxCs"
      }
    },
    {
      "cell_type": "code",
      "source": [
        "df['Undernourished'] = pd.to_numeric(df['Undernourished'],errors = 'coerce')"
      ],
      "metadata": {
        "id": "bVJ1sLGuud1C"
      },
      "execution_count": null,
      "outputs": []
    },
    {
      "cell_type": "code",
      "source": [
        "mean_value=df['Undernourished'].mean()"
      ],
      "metadata": {
        "id": "V1T2S3P7slp8"
      },
      "execution_count": null,
      "outputs": []
    },
    {
      "cell_type": "code",
      "source": [
        "df['Undernourished'].fillna(value=mean_value, inplace=True)\n",
        "print(df['Undernourished'])"
      ],
      "metadata": {
        "colab": {
          "base_uri": "https://localhost:8080/"
        },
        "id": "zUjPhOBGslzp",
        "outputId": "02b35abf-44c0-4778-847b-b08737dd279f"
      },
      "execution_count": null,
      "outputs": [
        {
          "output_type": "stream",
          "name": "stdout",
          "text": [
            "0      29.800000\n",
            "1       6.200000\n",
            "2       3.900000\n",
            "3      25.000000\n",
            "4      14.457143\n",
            "         ...    \n",
            "165    21.200000\n",
            "166     9.300000\n",
            "167    38.900000\n",
            "168    46.700000\n",
            "169    51.300000\n",
            "Name: Undernourished, Length: 170, dtype: float64\n"
          ]
        }
      ]
    },
    {
      "cell_type": "code",
      "source": [
        "mean_value=df['Deaths'].mean()"
      ],
      "metadata": {
        "id": "bfWH1bAksl2p"
      },
      "execution_count": null,
      "outputs": []
    },
    {
      "cell_type": "code",
      "source": [
        "df['Deaths'].fillna(value=mean_value, inplace=True)\n",
        "print(df['Deaths'])"
      ],
      "metadata": {
        "colab": {
          "base_uri": "https://localhost:8080/"
        },
        "id": "c6MWffU2sl6R",
        "outputId": "c143534e-1d4a-4827-f9df-2ac46c7f27b7"
      },
      "execution_count": null,
      "outputs": [
        {
          "output_type": "stream",
          "name": "stdout",
          "text": [
            "0      0.006186\n",
            "1      0.050951\n",
            "2      0.006558\n",
            "3      0.001461\n",
            "4      0.007143\n",
            "         ...   \n",
            "165    0.004287\n",
            "166    0.000036\n",
            "167    0.002062\n",
            "168    0.004564\n",
            "169    0.008854\n",
            "Name: Deaths, Length: 170, dtype: float64\n"
          ]
        }
      ]
    },
    {
      "cell_type": "code",
      "source": [
        "mean_value=df['Recovered'].mean()"
      ],
      "metadata": {
        "id": "xJGSXh03sl9M"
      },
      "execution_count": null,
      "outputs": []
    },
    {
      "cell_type": "code",
      "source": [
        "df['Recovered'].fillna(value=mean_value, inplace=True)\n",
        "print(df['Recovered'])"
      ],
      "metadata": {
        "colab": {
          "base_uri": "https://localhost:8080/"
        },
        "id": "6Q83918CsmI3",
        "outputId": "f3308db6-f393-4003-8c7f-6e78e2ac2fcd"
      },
      "execution_count": null,
      "outputs": [
        {
          "output_type": "stream",
          "name": "stdout",
          "text": [
            "0      0.123374\n",
            "1      1.792636\n",
            "2      0.167572\n",
            "3      0.056808\n",
            "4      0.190816\n",
            "         ...   \n",
            "165    0.424399\n",
            "166    0.001526\n",
            "167    0.004788\n",
            "168    0.290524\n",
            "169    0.190964\n",
            "Name: Recovered, Length: 170, dtype: float64\n"
          ]
        }
      ]
    },
    {
      "cell_type": "code",
      "source": [
        "mean_value=df['Active'].mean()"
      ],
      "metadata": {
        "id": "LM9cLkidsmL_"
      },
      "execution_count": null,
      "outputs": []
    },
    {
      "cell_type": "code",
      "source": [
        "df['Active'].fillna(value=mean_value, inplace=True)\n",
        "print(df['Active'])"
      ],
      "metadata": {
        "colab": {
          "base_uri": "https://localhost:8080/"
        },
        "id": "58cfSeYxvjZ2",
        "outputId": "5b0b0511-8b2d-4583-cfd7-78a7bef16da0"
      },
      "execution_count": null,
      "outputs": [
        {
          "output_type": "stream",
          "name": "stdout",
          "text": [
            "0      0.012574\n",
            "1      1.123714\n",
            "2      0.070767\n",
            "3      0.003419\n",
            "4      0.095918\n",
            "         ...   \n",
            "165    0.023899\n",
            "166    0.000501\n",
            "167    0.000282\n",
            "168    0.039045\n",
            "169    0.032214\n",
            "Name: Active, Length: 170, dtype: float64\n"
          ]
        }
      ]
    },
    {
      "cell_type": "markdown",
      "source": [
        "My data is now free of null values"
      ],
      "metadata": {
        "id": "KxFtDG8qw09-"
      }
    },
    {
      "cell_type": "code",
      "source": [
        "df.isnull().sum()"
      ],
      "metadata": {
        "colab": {
          "base_uri": "https://localhost:8080/"
        },
        "id": "M8a1uwOKrwoY",
        "outputId": "c0345274-2f63-4a8c-bd68-0422b8191ef6"
      },
      "execution_count": null,
      "outputs": [
        {
          "output_type": "execute_result",
          "data": {
            "text/plain": [
              "Country                         0\n",
              "Alcoholic Beverages             0\n",
              "Animal fats                     0\n",
              "Animal Products                 0\n",
              "Aquatic Products, Other         0\n",
              "Cereals - Excluding Beer        0\n",
              "Eggs                            0\n",
              "Fish, Seafood                   0\n",
              "Fruits - Excluding Wine         0\n",
              "Meat                            0\n",
              "Milk - Excluding Butter         0\n",
              "Miscellaneous                   0\n",
              "Offals                          0\n",
              "Oilcrops                        0\n",
              "Pulses                          0\n",
              "Spices                          0\n",
              "Starchy Roots                   0\n",
              "Stimulants                      0\n",
              "Sugar & Sweeteners              0\n",
              "Sugar Crops                     0\n",
              "Treenuts                        0\n",
              "Vegetable Oils                  0\n",
              "Vegetables                      0\n",
              "Vegetal Products                0\n",
              "Obesity                         0\n",
              "Undernourished                  0\n",
              "Confirmed                       0\n",
              "Deaths                          0\n",
              "Recovered                       0\n",
              "Active                          0\n",
              "Population                      0\n",
              "Unit (all except Population)    0\n",
              "dtype: int64"
            ]
          },
          "metadata": {},
          "execution_count": 120
        }
      ]
    },
    {
      "cell_type": "markdown",
      "source": [
        "I use the Columns Method to see which columns will be useful for my analysis and which are unneccesary for my analysis\n",
        "\n",
        "\n"
      ],
      "metadata": {
        "id": "x64SqBHuGMxq"
      }
    },
    {
      "cell_type": "code",
      "source": [
        "df.columns"
      ],
      "metadata": {
        "colab": {
          "base_uri": "https://localhost:8080/"
        },
        "id": "4SZBgL0sGI_G",
        "outputId": "96caccc6-599a-4ccf-c4d3-9b8a9b044a68"
      },
      "execution_count": null,
      "outputs": [
        {
          "output_type": "execute_result",
          "data": {
            "text/plain": [
              "Index(['Country', 'Alcoholic Beverages', 'Animal fats', 'Animal Products',\n",
              "       'Aquatic Products, Other', 'Cereals - Excluding Beer', 'Eggs',\n",
              "       'Fish, Seafood', 'Fruits - Excluding Wine', 'Meat',\n",
              "       'Milk - Excluding Butter', 'Miscellaneous', 'Offals', 'Oilcrops',\n",
              "       'Pulses', 'Spices', 'Starchy Roots', 'Stimulants', 'Sugar & Sweeteners',\n",
              "       'Sugar Crops', 'Treenuts', 'Vegetable Oils', 'Vegetables',\n",
              "       'Vegetal Products', 'Obesity', 'Undernourished', 'Confirmed', 'Deaths',\n",
              "       'Recovered', 'Active', 'Population', 'Unit (all except Population)'],\n",
              "      dtype='object')"
            ]
          },
          "metadata": {},
          "execution_count": 121
        }
      ]
    },
    {
      "cell_type": "markdown",
      "source": [
        "I will drop all unneccesary columns using the Drop() Method and will use the Head() Method again to look at the first five rows of data"
      ],
      "metadata": {
        "id": "xsPJJoHQ5Be1"
      }
    },
    {
      "cell_type": "code",
      "source": [
        "diet = df.drop(['Animal fats','Aquatic Products, Other', 'Cereals - Excluding Beer', 'Eggs', 'Miscellaneous', 'Offals', 'Oilcrops', 'Pulses', 'Spices', 'Starchy Roots', 'Stimulants','Sugar Crops', 'Treenuts', 'Vegetable Oils','Vegetal Products', 'Unit (all except Population)', 'Active', 'Population'], axis = 1)\n",
        "diet.head()"
      ],
      "metadata": {
        "colab": {
          "base_uri": "https://localhost:8080/",
          "height": 340
        },
        "id": "TCzyUS2A5FIE",
        "outputId": "d2f9ef06-9d83-465d-828a-4c0602243b39"
      },
      "execution_count": null,
      "outputs": [
        {
          "output_type": "execute_result",
          "data": {
            "text/plain": [
              "               Country  Alcoholic Beverages  Animal Products  Fish, Seafood  \\\n",
              "0          Afghanistan               0.0014           9.4341         0.0350   \n",
              "1              Albania               1.6719          18.7684         0.2126   \n",
              "2              Algeria               0.2711           9.6334         0.2416   \n",
              "3               Angola               5.8087           4.9278         1.7707   \n",
              "4  Antigua and Barbuda               3.5764          16.6613         4.1489   \n",
              "\n",
              "   Fruits - Excluding Wine    Meat  Milk - Excluding Butter  \\\n",
              "0                   5.3495  1.2020                   7.5828   \n",
              "1                   6.7861  1.8845                  15.7213   \n",
              "2                   6.3801  1.1305                   7.6189   \n",
              "3                   6.0005  2.0571                   0.8311   \n",
              "4                  10.7451  5.6888                   6.3663   \n",
              "\n",
              "   Sugar & Sweeteners  Vegetables  Obesity  Undernourished  Confirmed  \\\n",
              "0              1.3489      6.7642      4.5       29.800000   0.142134   \n",
              "1              1.5367     11.7753     22.3        6.200000   2.967301   \n",
              "2              1.8342     11.6484     26.6        3.900000   0.244897   \n",
              "3              1.8495      2.3041      6.8       25.000000   0.061687   \n",
              "4              3.8749      5.4495     19.1       14.457143   0.293878   \n",
              "\n",
              "     Deaths  Recovered  \n",
              "0  0.006186   0.123374  \n",
              "1  0.050951   1.792636  \n",
              "2  0.006558   0.167572  \n",
              "3  0.001461   0.056808  \n",
              "4  0.007143   0.190816  "
            ],
            "text/html": [
              "\n",
              "  <div id=\"df-c138932c-47d0-4daa-93ce-b43d6022e929\">\n",
              "    <div class=\"colab-df-container\">\n",
              "      <div>\n",
              "<style scoped>\n",
              "    .dataframe tbody tr th:only-of-type {\n",
              "        vertical-align: middle;\n",
              "    }\n",
              "\n",
              "    .dataframe tbody tr th {\n",
              "        vertical-align: top;\n",
              "    }\n",
              "\n",
              "    .dataframe thead th {\n",
              "        text-align: right;\n",
              "    }\n",
              "</style>\n",
              "<table border=\"1\" class=\"dataframe\">\n",
              "  <thead>\n",
              "    <tr style=\"text-align: right;\">\n",
              "      <th></th>\n",
              "      <th>Country</th>\n",
              "      <th>Alcoholic Beverages</th>\n",
              "      <th>Animal Products</th>\n",
              "      <th>Fish, Seafood</th>\n",
              "      <th>Fruits - Excluding Wine</th>\n",
              "      <th>Meat</th>\n",
              "      <th>Milk - Excluding Butter</th>\n",
              "      <th>Sugar &amp; Sweeteners</th>\n",
              "      <th>Vegetables</th>\n",
              "      <th>Obesity</th>\n",
              "      <th>Undernourished</th>\n",
              "      <th>Confirmed</th>\n",
              "      <th>Deaths</th>\n",
              "      <th>Recovered</th>\n",
              "    </tr>\n",
              "  </thead>\n",
              "  <tbody>\n",
              "    <tr>\n",
              "      <th>0</th>\n",
              "      <td>Afghanistan</td>\n",
              "      <td>0.0014</td>\n",
              "      <td>9.4341</td>\n",
              "      <td>0.0350</td>\n",
              "      <td>5.3495</td>\n",
              "      <td>1.2020</td>\n",
              "      <td>7.5828</td>\n",
              "      <td>1.3489</td>\n",
              "      <td>6.7642</td>\n",
              "      <td>4.5</td>\n",
              "      <td>29.800000</td>\n",
              "      <td>0.142134</td>\n",
              "      <td>0.006186</td>\n",
              "      <td>0.123374</td>\n",
              "    </tr>\n",
              "    <tr>\n",
              "      <th>1</th>\n",
              "      <td>Albania</td>\n",
              "      <td>1.6719</td>\n",
              "      <td>18.7684</td>\n",
              "      <td>0.2126</td>\n",
              "      <td>6.7861</td>\n",
              "      <td>1.8845</td>\n",
              "      <td>15.7213</td>\n",
              "      <td>1.5367</td>\n",
              "      <td>11.7753</td>\n",
              "      <td>22.3</td>\n",
              "      <td>6.200000</td>\n",
              "      <td>2.967301</td>\n",
              "      <td>0.050951</td>\n",
              "      <td>1.792636</td>\n",
              "    </tr>\n",
              "    <tr>\n",
              "      <th>2</th>\n",
              "      <td>Algeria</td>\n",
              "      <td>0.2711</td>\n",
              "      <td>9.6334</td>\n",
              "      <td>0.2416</td>\n",
              "      <td>6.3801</td>\n",
              "      <td>1.1305</td>\n",
              "      <td>7.6189</td>\n",
              "      <td>1.8342</td>\n",
              "      <td>11.6484</td>\n",
              "      <td>26.6</td>\n",
              "      <td>3.900000</td>\n",
              "      <td>0.244897</td>\n",
              "      <td>0.006558</td>\n",
              "      <td>0.167572</td>\n",
              "    </tr>\n",
              "    <tr>\n",
              "      <th>3</th>\n",
              "      <td>Angola</td>\n",
              "      <td>5.8087</td>\n",
              "      <td>4.9278</td>\n",
              "      <td>1.7707</td>\n",
              "      <td>6.0005</td>\n",
              "      <td>2.0571</td>\n",
              "      <td>0.8311</td>\n",
              "      <td>1.8495</td>\n",
              "      <td>2.3041</td>\n",
              "      <td>6.8</td>\n",
              "      <td>25.000000</td>\n",
              "      <td>0.061687</td>\n",
              "      <td>0.001461</td>\n",
              "      <td>0.056808</td>\n",
              "    </tr>\n",
              "    <tr>\n",
              "      <th>4</th>\n",
              "      <td>Antigua and Barbuda</td>\n",
              "      <td>3.5764</td>\n",
              "      <td>16.6613</td>\n",
              "      <td>4.1489</td>\n",
              "      <td>10.7451</td>\n",
              "      <td>5.6888</td>\n",
              "      <td>6.3663</td>\n",
              "      <td>3.8749</td>\n",
              "      <td>5.4495</td>\n",
              "      <td>19.1</td>\n",
              "      <td>14.457143</td>\n",
              "      <td>0.293878</td>\n",
              "      <td>0.007143</td>\n",
              "      <td>0.190816</td>\n",
              "    </tr>\n",
              "  </tbody>\n",
              "</table>\n",
              "</div>\n",
              "      <button class=\"colab-df-convert\" onclick=\"convertToInteractive('df-c138932c-47d0-4daa-93ce-b43d6022e929')\"\n",
              "              title=\"Convert this dataframe to an interactive table.\"\n",
              "              style=\"display:none;\">\n",
              "        \n",
              "  <svg xmlns=\"http://www.w3.org/2000/svg\" height=\"24px\"viewBox=\"0 0 24 24\"\n",
              "       width=\"24px\">\n",
              "    <path d=\"M0 0h24v24H0V0z\" fill=\"none\"/>\n",
              "    <path d=\"M18.56 5.44l.94 2.06.94-2.06 2.06-.94-2.06-.94-.94-2.06-.94 2.06-2.06.94zm-11 1L8.5 8.5l.94-2.06 2.06-.94-2.06-.94L8.5 2.5l-.94 2.06-2.06.94zm10 10l.94 2.06.94-2.06 2.06-.94-2.06-.94-.94-2.06-.94 2.06-2.06.94z\"/><path d=\"M17.41 7.96l-1.37-1.37c-.4-.4-.92-.59-1.43-.59-.52 0-1.04.2-1.43.59L10.3 9.45l-7.72 7.72c-.78.78-.78 2.05 0 2.83L4 21.41c.39.39.9.59 1.41.59.51 0 1.02-.2 1.41-.59l7.78-7.78 2.81-2.81c.8-.78.8-2.07 0-2.86zM5.41 20L4 18.59l7.72-7.72 1.47 1.35L5.41 20z\"/>\n",
              "  </svg>\n",
              "      </button>\n",
              "      \n",
              "  <style>\n",
              "    .colab-df-container {\n",
              "      display:flex;\n",
              "      flex-wrap:wrap;\n",
              "      gap: 12px;\n",
              "    }\n",
              "\n",
              "    .colab-df-convert {\n",
              "      background-color: #E8F0FE;\n",
              "      border: none;\n",
              "      border-radius: 50%;\n",
              "      cursor: pointer;\n",
              "      display: none;\n",
              "      fill: #1967D2;\n",
              "      height: 32px;\n",
              "      padding: 0 0 0 0;\n",
              "      width: 32px;\n",
              "    }\n",
              "\n",
              "    .colab-df-convert:hover {\n",
              "      background-color: #E2EBFA;\n",
              "      box-shadow: 0px 1px 2px rgba(60, 64, 67, 0.3), 0px 1px 3px 1px rgba(60, 64, 67, 0.15);\n",
              "      fill: #174EA6;\n",
              "    }\n",
              "\n",
              "    [theme=dark] .colab-df-convert {\n",
              "      background-color: #3B4455;\n",
              "      fill: #D2E3FC;\n",
              "    }\n",
              "\n",
              "    [theme=dark] .colab-df-convert:hover {\n",
              "      background-color: #434B5C;\n",
              "      box-shadow: 0px 1px 3px 1px rgba(0, 0, 0, 0.15);\n",
              "      filter: drop-shadow(0px 1px 2px rgba(0, 0, 0, 0.3));\n",
              "      fill: #FFFFFF;\n",
              "    }\n",
              "  </style>\n",
              "\n",
              "      <script>\n",
              "        const buttonEl =\n",
              "          document.querySelector('#df-c138932c-47d0-4daa-93ce-b43d6022e929 button.colab-df-convert');\n",
              "        buttonEl.style.display =\n",
              "          google.colab.kernel.accessAllowed ? 'block' : 'none';\n",
              "\n",
              "        async function convertToInteractive(key) {\n",
              "          const element = document.querySelector('#df-c138932c-47d0-4daa-93ce-b43d6022e929');\n",
              "          const dataTable =\n",
              "            await google.colab.kernel.invokeFunction('convertToInteractive',\n",
              "                                                     [key], {});\n",
              "          if (!dataTable) return;\n",
              "\n",
              "          const docLinkHtml = 'Like what you see? Visit the ' +\n",
              "            '<a target=\"_blank\" href=https://colab.research.google.com/notebooks/data_table.ipynb>data table notebook</a>'\n",
              "            + ' to learn more about interactive tables.';\n",
              "          element.innerHTML = '';\n",
              "          dataTable['output_type'] = 'display_data';\n",
              "          await google.colab.output.renderOutput(dataTable, element);\n",
              "          const docLink = document.createElement('div');\n",
              "          docLink.innerHTML = docLinkHtml;\n",
              "          element.appendChild(docLink);\n",
              "        }\n",
              "      </script>\n",
              "    </div>\n",
              "  </div>\n",
              "  "
            ]
          },
          "metadata": {},
          "execution_count": 122
        }
      ]
    },
    {
      "cell_type": "markdown",
      "source": [
        "Now I will begin the testing of my hypotheses\n",
        "\n",
        "1.\tWhat is the correlation between eating vegetables and the confirmed rate of having COVID 19?\n",
        "2.\tWhat is the correlation between a pescaterian diet (fish and seafood) and percentage of those who recover from COVID 19?\n",
        "3.\tWhat is the correlation between animal product intake and death by COVID 19?\n",
        "\n",
        "\n",
        "\n",
        "\n"
      ],
      "metadata": {
        "id": "dLKtBoDaKrt2"
      }
    },
    {
      "cell_type": "markdown",
      "source": [
        "For the first hypothesis \"What is the correlation between eating vegetables and the confirmed rate of having COVID 19?\" I chose to represent my data with a scatter plot to show the correlation.\n",
        "\n",
        "I found the scatterplot that includes the hue which represents deaths to be more informative because from that scatter plot I can see that for those who eat vegetables there are less deaths when there is a lower number of confirmed COVID cases. As the number of confirmed COVID cases rises there begins to be more deaths especially in those who eat between 5 and 7.5 kgs of vegetables. However, ultimately there is not a clear correlation between the amount of vegetables one eats and the number of confirmed cases.\n"
      ],
      "metadata": {
        "id": "Xq-dlLds0LwS"
      }
    },
    {
      "cell_type": "code",
      "source": [
        "sns.scatterplot(data=diet ,x='Vegetables',y='Confirmed', hue='Deaths')"
      ],
      "metadata": {
        "id": "2Y1SVZpvMXSp",
        "colab": {
          "base_uri": "https://localhost:8080/",
          "height": 296
        },
        "outputId": "873348cf-999f-4108-cbc4-2355f4ff25ba"
      },
      "execution_count": null,
      "outputs": [
        {
          "output_type": "execute_result",
          "data": {
            "text/plain": [
              "<matplotlib.axes._subplots.AxesSubplot at 0x7f1443186910>"
            ]
          },
          "metadata": {},
          "execution_count": 123
        },
        {
          "output_type": "display_data",
          "data": {
            "text/plain": [
              "<Figure size 432x288 with 1 Axes>"
            ],
            "image/png": "[encoded data removed]"
          },
          "metadata": {
            "needs_background": "light"
          }
        }
      ]
    },
    {
      "cell_type": "markdown",
      "source": [
        "For my second hypothesis \"What is the correlation between a pescaterian diet (fish and seafood) and percentage of those who recover from COVID 19?\" I chose to represent my data with a regression plot (regplot) because I am only comparing a single relationship.\n",
        "\n",
        "From this regression plot I can see that there is no clear correlation between the amount of fish and seafood one eats and the percentage in which they recover from COVID 19. There does seem to be a small correlation where countries who eat between 0 and 4 kgs of fish and seafood did not recover from COVID 19 but this correlation is not conducive.\n",
        " "
      ],
      "metadata": {
        "id": "A1DHK79a24kO"
      }
    },
    {
      "cell_type": "code",
      "source": [
        "sns.regplot(x='Fish, Seafood',y='Recovered',data=diet)\n"
      ],
      "metadata": {
        "id": "8Gm0DKpKmm5d",
        "colab": {
          "base_uri": "https://localhost:8080/",
          "height": 296
        },
        "outputId": "58518ce8-1180-43c4-c35b-e51fd71d4675"
      },
      "execution_count": null,
      "outputs": [
        {
          "output_type": "execute_result",
          "data": {
            "text/plain": [
              "<matplotlib.axes._subplots.AxesSubplot at 0x7f143bbebe50>"
            ]
          },
          "metadata": {},
          "execution_count": 124
        },
        {
          "output_type": "display_data",
          "data": {
            "text/plain": [
              "<Figure size 432x288 with 1 Axes>"
            ],
            "image/png": "[encoded data removed]"
          },
          "metadata": {
            "needs_background": "light"
          }
        }
      ]
    },
    {
      "cell_type": "markdown",
      "source": [
        "Lastly, for my third hypothesis \"What is the correlation between amimal product intake and death by COVID 19?\" I chose to chose to represent my data with a lmplot.\n",
        "\n",
        "Again, there isn't a clear correlation between eating animal products and death from COVID 19. There is a small correlation between those who eat between 0 and 15 kgs of animal products and them not experiencing death by COVID 19 but this correlation isn't representative of the entire data.\n",
        "\n"
      ],
      "metadata": {
        "id": "OoT5Z2Ry5gjA"
      }
    },
    {
      "cell_type": "code",
      "source": [
        "sns.lmplot(x='Animal Products',y='Deaths',data=diet)"
      ],
      "metadata": {
        "id": "eX91Qb5Bf7yp",
        "colab": {
          "base_uri": "https://localhost:8080/",
          "height": 386
        },
        "outputId": "f6d90bf0-6d97-4b01-f336-a67cc13a4689"
      },
      "execution_count": null,
      "outputs": [
        {
          "output_type": "execute_result",
          "data": {
            "text/plain": [
              "<seaborn.axisgrid.FacetGrid at 0x7f143bbde190>"
            ]
          },
          "metadata": {},
          "execution_count": 125
        },
        {
          "output_type": "display_data",
          "data": {
            "text/plain": [
              "<Figure size 360x360 with 1 Axes>"
            ],
            "image/png": "[encoded data removed]"
          },
          "metadata": {
            "needs_background": "light"
          }
        }
      ]
    },
    {
      "cell_type": "markdown",
      "source": [
        "I will prepare my models for testing\n",
        "\n",
        "Using astype() I am able to convert my floats into integers. I will name the converted data diet_n\n"
      ],
      "metadata": {
        "id": "dEdO1uSzF0jW"
      }
    },
    {
      "cell_type": "code",
      "source": [
        "diet_n = df.astype ({'Alcoholic Beverages':'int', 'Animal fats':'int', 'Animal Products':'int',\n",
        "       'Aquatic Products, Other':'int', 'Cereals - Excluding Beer':'int', 'Eggs':'int',\n",
        "       'Fish, Seafood':'int', 'Fruits - Excluding Wine':'int', 'Meat':'int',\n",
        "       'Milk - Excluding Butter':'int', 'Miscellaneous':'int', 'Offals':'int', 'Oilcrops':'int',\n",
        "       'Pulses':'int', 'Spices':'int', 'Starchy Roots':'int', 'Stimulants':'int', 'Sugar & Sweeteners':'int',\n",
        "       'Sugar Crops':'int', 'Treenuts':'int', 'Vegetable Oils':'int', 'Vegetables':'int',\n",
        "       'Vegetal Products':'int', 'Obesity':'int', 'Undernourished':'int', 'Confirmed':'int', 'Deaths':'int', 'Recovered':'int',\t'Active':'int',\t'Population':'int'})\n",
        "diet_n"
      ],
      "metadata": {
        "colab": {
          "base_uri": "https://localhost:8080/",
          "height": 609
        },
        "id": "9RHPnSzFpyEr",
        "outputId": "411c9c6c-4095-4fb3-85e9-d76068b2ee37"
      },
      "execution_count": null,
      "outputs": [
        {
          "output_type": "execute_result",
          "data": {
            "text/plain": [
              "                                Country  Alcoholic Beverages  Animal fats  \\\n",
              "0                           Afghanistan                    0            0   \n",
              "1                               Albania                    1            0   \n",
              "2                               Algeria                    0            0   \n",
              "3                                Angola                    5            0   \n",
              "4                   Antigua and Barbuda                    3            0   \n",
              "..                                  ...                  ...          ...   \n",
              "165  Venezuela (Bolivarian Republic of)                    2            0   \n",
              "166                             Vietnam                    1            0   \n",
              "167                               Yemen                    0            0   \n",
              "168                              Zambia                    5            0   \n",
              "169                            Zimbabwe                    4            0   \n",
              "\n",
              "     Animal Products  Aquatic Products, Other  Cereals - Excluding Beer  Eggs  \\\n",
              "0                  9                        0                        24     0   \n",
              "1                 18                        0                         5     0   \n",
              "2                  9                        0                        13     0   \n",
              "3                  4                        0                         9     0   \n",
              "4                 16                        0                         5     0   \n",
              "..               ...                      ...                       ...   ...   \n",
              "165               14                        0                        12     0   \n",
              "166                8                        0                        16     0   \n",
              "167                5                        0                        27     0   \n",
              "168                6                        0                        21     0   \n",
              "169                8                        0                        22     0   \n",
              "\n",
              "     Fish, Seafood  Fruits - Excluding Wine  Meat  ...  Vegetables  \\\n",
              "0                0                        5     1  ...           6   \n",
              "1                0                        6     1  ...          11   \n",
              "2                0                        6     1  ...          11   \n",
              "3                1                        6     2  ...           2   \n",
              "4                4                       10     5  ...           5   \n",
              "..             ...                      ...   ...  ...         ...   \n",
              "165              0                        7     3  ...           4   \n",
              "166              2                        5     4  ...          11   \n",
              "167              0                        5     2  ...           3   \n",
              "168              1                        1     1  ...           3   \n",
              "169              0                        2     2  ...           2   \n",
              "\n",
              "     Vegetal Products  Obesity  Undernourished  Confirmed  Deaths  Recovered  \\\n",
              "0                  40        4              29          0       0          0   \n",
              "1                  31       22               6          2       0          1   \n",
              "2                  40       26               3          0       0          0   \n",
              "3                  45        6              25          0       0          0   \n",
              "4                  33       19              14          0       0          0   \n",
              "..                ...      ...             ...        ...     ...        ...   \n",
              "165                35       25              21          0       0          0   \n",
              "166                41        2               9          0       0          0   \n",
              "167                44       14              38          0       0          0   \n",
              "168                43        6              46          0       0          0   \n",
              "169                41       12              51          0       0          0   \n",
              "\n",
              "     Active  Population  Unit (all except Population)  \n",
              "0         0    38928000                             %  \n",
              "1         1     2838000                             %  \n",
              "2         0    44357000                             %  \n",
              "3         0    32522000                             %  \n",
              "4         0       98000                             %  \n",
              "..      ...         ...                           ...  \n",
              "165       0    28645000                             %  \n",
              "166       0    96209000                             %  \n",
              "167       0    29826000                             %  \n",
              "168       0    18384000                             %  \n",
              "169       0    14863000                             %  \n",
              "\n",
              "[170 rows x 32 columns]"
            ],
            "text/html": [
              "\n",
              "  <div id=\"df-0b3732b7-5017-480c-916a-c4b984f7ff4a\">\n",
              "    <div class=\"colab-df-container\">\n",
              "      <div>\n",
              "<style scoped>\n",
              "    .dataframe tbody tr th:only-of-type {\n",
              "        vertical-align: middle;\n",
              "    }\n",
              "\n",
              "    .dataframe tbody tr th {\n",
              "        vertical-align: top;\n",
              "    }\n",
              "\n",
              "    .dataframe thead th {\n",
              "        text-align: right;\n",
              "    }\n",
              "</style>\n",
              "<table border=\"1\" class=\"dataframe\">\n",
              "  <thead>\n",
              "    <tr style=\"text-align: right;\">\n",
              "      <th></th>\n",
              "      <th>Country</th>\n",
              "      <th>Alcoholic Beverages</th>\n",
              "      <th>Animal fats</th>\n",
              "      <th>Animal Products</th>\n",
              "      <th>Aquatic Products, Other</th>\n",
              "      <th>Cereals - Excluding Beer</th>\n",
              "      <th>Eggs</th>\n",
              "      <th>Fish, Seafood</th>\n",
              "      <th>Fruits - Excluding Wine</th>\n",
              "      <th>Meat</th>\n",
              "      <th>...</th>\n",
              "      <th>Vegetables</th>\n",
              "      <th>Vegetal Products</th>\n",
              "      <th>Obesity</th>\n",
              "      <th>Undernourished</th>\n",
              "      <th>Confirmed</th>\n",
              "      <th>Deaths</th>\n",
              "      <th>Recovered</th>\n",
              "      <th>Active</th>\n",
              "      <th>Population</th>\n",
              "      <th>Unit (all except Population)</th>\n",
              "    </tr>\n",
              "  </thead>\n",
              "  <tbody>\n",
              "    <tr>\n",
              "      <th>0</th>\n",
              "      <td>Afghanistan</td>\n",
              "      <td>0</td>\n",
              "      <td>0</td>\n",
              "      <td>9</td>\n",
              "      <td>0</td>\n",
              "      <td>24</td>\n",
              "      <td>0</td>\n",
              "      <td>0</td>\n",
              "      <td>5</td>\n",
              "      <td>1</td>\n",
              "      <td>...</td>\n",
              "      <td>6</td>\n",
              "      <td>40</td>\n",
              "      <td>4</td>\n",
              "      <td>29</td>\n",
              "      <td>0</td>\n",
              "      <td>0</td>\n",
              "      <td>0</td>\n",
              "      <td>0</td>\n",
              "      <td>38928000</td>\n",
              "      <td>%</td>\n",
              "    </tr>\n",
              "    <tr>\n",
              "      <th>1</th>\n",
              "      <td>Albania</td>\n",
              "      <td>1</td>\n",
              "      <td>0</td>\n",
              "      <td>18</td>\n",
              "      <td>0</td>\n",
              "      <td>5</td>\n",
              "      <td>0</td>\n",
              "      <td>0</td>\n",
              "      <td>6</td>\n",
              "      <td>1</td>\n",
              "      <td>...</td>\n",
              "      <td>11</td>\n",
              "      <td>31</td>\n",
              "      <td>22</td>\n",
              "      <td>6</td>\n",
              "      <td>2</td>\n",
              "      <td>0</td>\n",
              "      <td>1</td>\n",
              "      <td>1</td>\n",
              "      <td>2838000</td>\n",
              "      <td>%</td>\n",
              "    </tr>\n",
              "    <tr>\n",
              "      <th>2</th>\n",
              "      <td>Algeria</td>\n",
              "      <td>0</td>\n",
              "      <td>0</td>\n",
              "      <td>9</td>\n",
              "      <td>0</td>\n",
              "      <td>13</td>\n",
              "      <td>0</td>\n",
              "      <td>0</td>\n",
              "      <td>6</td>\n",
              "      <td>1</td>\n",
              "      <td>...</td>\n",
              "      <td>11</td>\n",
              "      <td>40</td>\n",
              "      <td>26</td>\n",
              "      <td>3</td>\n",
              "      <td>0</td>\n",
              "      <td>0</td>\n",
              "      <td>0</td>\n",
              "      <td>0</td>\n",
              "      <td>44357000</td>\n",
              "      <td>%</td>\n",
              "    </tr>\n",
              "    <tr>\n",
              "      <th>3</th>\n",
              "      <td>Angola</td>\n",
              "      <td>5</td>\n",
              "      <td>0</td>\n",
              "      <td>4</td>\n",
              "      <td>0</td>\n",
              "      <td>9</td>\n",
              "      <td>0</td>\n",
              "      <td>1</td>\n",
              "      <td>6</td>\n",
              "      <td>2</td>\n",
              "      <td>...</td>\n",
              "      <td>2</td>\n",
              "      <td>45</td>\n",
              "      <td>6</td>\n",
              "      <td>25</td>\n",
              "      <td>0</td>\n",
              "      <td>0</td>\n",
              "      <td>0</td>\n",
              "      <td>0</td>\n",
              "      <td>32522000</td>\n",
              "      <td>%</td>\n",
              "    </tr>\n",
              "    <tr>\n",
              "      <th>4</th>\n",
              "      <td>Antigua and Barbuda</td>\n",
              "      <td>3</td>\n",
              "      <td>0</td>\n",
              "      <td>16</td>\n",
              "      <td>0</td>\n",
              "      <td>5</td>\n",
              "      <td>0</td>\n",
              "      <td>4</td>\n",
              "      <td>10</td>\n",
              "      <td>5</td>\n",
              "      <td>...</td>\n",
              "      <td>5</td>\n",
              "      <td>33</td>\n",
              "      <td>19</td>\n",
              "      <td>14</td>\n",
              "      <td>0</td>\n",
              "      <td>0</td>\n",
              "      <td>0</td>\n",
              "      <td>0</td>\n",
              "      <td>98000</td>\n",
              "      <td>%</td>\n",
              "    </tr>\n",
              "    <tr>\n",
              "      <th>...</th>\n",
              "      <td>...</td>\n",
              "      <td>...</td>\n",
              "      <td>...</td>\n",
              "      <td>...</td>\n",
              "      <td>...</td>\n",
              "      <td>...</td>\n",
              "      <td>...</td>\n",
              "      <td>...</td>\n",
              "      <td>...</td>\n",
              "      <td>...</td>\n",
              "      <td>...</td>\n",
              "      <td>...</td>\n",
              "      <td>...</td>\n",
              "      <td>...</td>\n",
              "      <td>...</td>\n",
              "      <td>...</td>\n",
              "      <td>...</td>\n",
              "      <td>...</td>\n",
              "      <td>...</td>\n",
              "      <td>...</td>\n",
              "      <td>...</td>\n",
              "    </tr>\n",
              "    <tr>\n",
              "      <th>165</th>\n",
              "      <td>Venezuela (Bolivarian Republic of)</td>\n",
              "      <td>2</td>\n",
              "      <td>0</td>\n",
              "      <td>14</td>\n",
              "      <td>0</td>\n",
              "      <td>12</td>\n",
              "      <td>0</td>\n",
              "      <td>0</td>\n",
              "      <td>7</td>\n",
              "      <td>3</td>\n",
              "      <td>...</td>\n",
              "      <td>4</td>\n",
              "      <td>35</td>\n",
              "      <td>25</td>\n",
              "      <td>21</td>\n",
              "      <td>0</td>\n",
              "      <td>0</td>\n",
              "      <td>0</td>\n",
              "      <td>0</td>\n",
              "      <td>28645000</td>\n",
              "      <td>%</td>\n",
              "    </tr>\n",
              "    <tr>\n",
              "      <th>166</th>\n",
              "      <td>Vietnam</td>\n",
              "      <td>1</td>\n",
              "      <td>0</td>\n",
              "      <td>8</td>\n",
              "      <td>0</td>\n",
              "      <td>16</td>\n",
              "      <td>0</td>\n",
              "      <td>2</td>\n",
              "      <td>5</td>\n",
              "      <td>4</td>\n",
              "      <td>...</td>\n",
              "      <td>11</td>\n",
              "      <td>41</td>\n",
              "      <td>2</td>\n",
              "      <td>9</td>\n",
              "      <td>0</td>\n",
              "      <td>0</td>\n",
              "      <td>0</td>\n",
              "      <td>0</td>\n",
              "      <td>96209000</td>\n",
              "      <td>%</td>\n",
              "    </tr>\n",
              "    <tr>\n",
              "      <th>167</th>\n",
              "      <td>Yemen</td>\n",
              "      <td>0</td>\n",
              "      <td>0</td>\n",
              "      <td>5</td>\n",
              "      <td>0</td>\n",
              "      <td>27</td>\n",
              "      <td>0</td>\n",
              "      <td>0</td>\n",
              "      <td>5</td>\n",
              "      <td>2</td>\n",
              "      <td>...</td>\n",
              "      <td>3</td>\n",
              "      <td>44</td>\n",
              "      <td>14</td>\n",
              "      <td>38</td>\n",
              "      <td>0</td>\n",
              "      <td>0</td>\n",
              "      <td>0</td>\n",
              "      <td>0</td>\n",
              "      <td>29826000</td>\n",
              "      <td>%</td>\n",
              "    </tr>\n",
              "    <tr>\n",
              "      <th>168</th>\n",
              "      <td>Zambia</td>\n",
              "      <td>5</td>\n",
              "      <td>0</td>\n",
              "      <td>6</td>\n",
              "      <td>0</td>\n",
              "      <td>21</td>\n",
              "      <td>0</td>\n",
              "      <td>1</td>\n",
              "      <td>1</td>\n",
              "      <td>1</td>\n",
              "      <td>...</td>\n",
              "      <td>3</td>\n",
              "      <td>43</td>\n",
              "      <td>6</td>\n",
              "      <td>46</td>\n",
              "      <td>0</td>\n",
              "      <td>0</td>\n",
              "      <td>0</td>\n",
              "      <td>0</td>\n",
              "      <td>18384000</td>\n",
              "      <td>%</td>\n",
              "    </tr>\n",
              "    <tr>\n",
              "      <th>169</th>\n",
              "      <td>Zimbabwe</td>\n",
              "      <td>4</td>\n",
              "      <td>0</td>\n",
              "      <td>8</td>\n",
              "      <td>0</td>\n",
              "      <td>22</td>\n",
              "      <td>0</td>\n",
              "      <td>0</td>\n",
              "      <td>2</td>\n",
              "      <td>2</td>\n",
              "      <td>...</td>\n",
              "      <td>2</td>\n",
              "      <td>41</td>\n",
              "      <td>12</td>\n",
              "      <td>51</td>\n",
              "      <td>0</td>\n",
              "      <td>0</td>\n",
              "      <td>0</td>\n",
              "      <td>0</td>\n",
              "      <td>14863000</td>\n",
              "      <td>%</td>\n",
              "    </tr>\n",
              "  </tbody>\n",
              "</table>\n",
              "<p>170 rows × 32 columns</p>\n",
              "</div>\n",
              "      <button class=\"colab-df-convert\" onclick=\"convertToInteractive('df-0b3732b7-5017-480c-916a-c4b984f7ff4a')\"\n",
              "              title=\"Convert this dataframe to an interactive table.\"\n",
              "              style=\"display:none;\">\n",
              "        \n",
              "  <svg xmlns=\"http://www.w3.org/2000/svg\" height=\"24px\"viewBox=\"0 0 24 24\"\n",
              "       width=\"24px\">\n",
              "    <path d=\"M0 0h24v24H0V0z\" fill=\"none\"/>\n",
              "    <path d=\"M18.56 5.44l.94 2.06.94-2.06 2.06-.94-2.06-.94-.94-2.06-.94 2.06-2.06.94zm-11 1L8.5 8.5l.94-2.06 2.06-.94-2.06-.94L8.5 2.5l-.94 2.06-2.06.94zm10 10l.94 2.06.94-2.06 2.06-.94-2.06-.94-.94-2.06-.94 2.06-2.06.94z\"/><path d=\"M17.41 7.96l-1.37-1.37c-.4-.4-.92-.59-1.43-.59-.52 0-1.04.2-1.43.59L10.3 9.45l-7.72 7.72c-.78.78-.78 2.05 0 2.83L4 21.41c.39.39.9.59 1.41.59.51 0 1.02-.2 1.41-.59l7.78-7.78 2.81-2.81c.8-.78.8-2.07 0-2.86zM5.41 20L4 18.59l7.72-7.72 1.47 1.35L5.41 20z\"/>\n",
              "  </svg>\n",
              "      </button>\n",
              "      \n",
              "  <style>\n",
              "    .colab-df-container {\n",
              "      display:flex;\n",
              "      flex-wrap:wrap;\n",
              "      gap: 12px;\n",
              "    }\n",
              "\n",
              "    .colab-df-convert {\n",
              "      background-color: #E8F0FE;\n",
              "      border: none;\n",
              "      border-radius: 50%;\n",
              "      cursor: pointer;\n",
              "      display: none;\n",
              "      fill: #1967D2;\n",
              "      height: 32px;\n",
              "      padding: 0 0 0 0;\n",
              "      width: 32px;\n",
              "    }\n",
              "\n",
              "    .colab-df-convert:hover {\n",
              "      background-color: #E2EBFA;\n",
              "      box-shadow: 0px 1px 2px rgba(60, 64, 67, 0.3), 0px 1px 3px 1px rgba(60, 64, 67, 0.15);\n",
              "      fill: #174EA6;\n",
              "    }\n",
              "\n",
              "    [theme=dark] .colab-df-convert {\n",
              "      background-color: #3B4455;\n",
              "      fill: #D2E3FC;\n",
              "    }\n",
              "\n",
              "    [theme=dark] .colab-df-convert:hover {\n",
              "      background-color: #434B5C;\n",
              "      box-shadow: 0px 1px 3px 1px rgba(0, 0, 0, 0.15);\n",
              "      filter: drop-shadow(0px 1px 2px rgba(0, 0, 0, 0.3));\n",
              "      fill: #FFFFFF;\n",
              "    }\n",
              "  </style>\n",
              "\n",
              "      <script>\n",
              "        const buttonEl =\n",
              "          document.querySelector('#df-0b3732b7-5017-480c-916a-c4b984f7ff4a button.colab-df-convert');\n",
              "        buttonEl.style.display =\n",
              "          google.colab.kernel.accessAllowed ? 'block' : 'none';\n",
              "\n",
              "        async function convertToInteractive(key) {\n",
              "          const element = document.querySelector('#df-0b3732b7-5017-480c-916a-c4b984f7ff4a');\n",
              "          const dataTable =\n",
              "            await google.colab.kernel.invokeFunction('convertToInteractive',\n",
              "                                                     [key], {});\n",
              "          if (!dataTable) return;\n",
              "\n",
              "          const docLinkHtml = 'Like what you see? Visit the ' +\n",
              "            '<a target=\"_blank\" href=https://colab.research.google.com/notebooks/data_table.ipynb>data table notebook</a>'\n",
              "            + ' to learn more about interactive tables.';\n",
              "          element.innerHTML = '';\n",
              "          dataTable['output_type'] = 'display_data';\n",
              "          await google.colab.output.renderOutput(dataTable, element);\n",
              "          const docLink = document.createElement('div');\n",
              "          docLink.innerHTML = docLinkHtml;\n",
              "          element.appendChild(docLink);\n",
              "        }\n",
              "      </script>\n",
              "    </div>\n",
              "  </div>\n",
              "  "
            ]
          },
          "metadata": {},
          "execution_count": 126
        }
      ]
    },
    {
      "cell_type": "markdown",
      "source": [
        "Identify our independent or target variable (y) and our dependent variable(s) X.\n",
        "\n",
        "To identify our X we must create a table that includes only the dependent variables that we want to test against our independent variable. I used the Drop() Method to drop all of the unnessesary columns and to drop the 'Confirmed' column because that will serve as my y variable. "
      ],
      "metadata": {
        "id": "Rf8LhS_sGdlz"
      }
    },
    {
      "cell_type": "code",
      "source": [
        "X = diet_n.drop (['Country','Animal fats','Aquatic Products, Other', 'Cereals - Excluding Beer', 'Eggs', 'Miscellaneous', 'Offals', 'Oilcrops', 'Pulses', 'Spices', 'Starchy Roots', 'Stimulants','Sugar Crops', 'Treenuts', 'Vegetable Oils','Vegetal Products', 'Unit (all except Population)', 'Active', 'Population','Obesity',\t'Undernourished',\t'Recovered',\t'Deaths',\t'Confirmed'] , axis='columns')\n",
        "X"
      ],
      "metadata": {
        "colab": {
          "base_uri": "https://localhost:8080/",
          "height": 424
        },
        "id": "3N04bSyzGgyi",
        "outputId": "96947476-c5c6-481e-a4f6-2e4a47d9a105"
      },
      "execution_count": null,
      "outputs": [
        {
          "output_type": "execute_result",
          "data": {
            "text/plain": [
              "     Alcoholic Beverages  Animal Products  Fish, Seafood  \\\n",
              "0                      0                9              0   \n",
              "1                      1               18              0   \n",
              "2                      0                9              0   \n",
              "3                      5                4              1   \n",
              "4                      3               16              4   \n",
              "..                   ...              ...            ...   \n",
              "165                    2               14              0   \n",
              "166                    1                8              2   \n",
              "167                    0                5              0   \n",
              "168                    5                6              1   \n",
              "169                    4                8              0   \n",
              "\n",
              "     Fruits - Excluding Wine  Meat  Milk - Excluding Butter  \\\n",
              "0                          5     1                        7   \n",
              "1                          6     1                       15   \n",
              "2                          6     1                        7   \n",
              "3                          6     2                        0   \n",
              "4                         10     5                        6   \n",
              "..                       ...   ...                      ...   \n",
              "165                        7     3                        9   \n",
              "166                        5     4                        0   \n",
              "167                        5     2                        1   \n",
              "168                        1     1                        1   \n",
              "169                        2     2                        4   \n",
              "\n",
              "     Sugar & Sweeteners  Vegetables  \n",
              "0                     1           6  \n",
              "1                     1          11  \n",
              "2                     1          11  \n",
              "3                     1           2  \n",
              "4                     3           5  \n",
              "..                  ...         ...  \n",
              "165                   3           4  \n",
              "166                   1          11  \n",
              "167                   5           3  \n",
              "168                   1           3  \n",
              "169                   4           2  \n",
              "\n",
              "[170 rows x 8 columns]"
            ],
            "text/html": [
              "\n",
              "  <div id=\"df-a1177e0f-9e79-427f-a791-44d8a53aa05c\">\n",
              "    <div class=\"colab-df-container\">\n",
              "      <div>\n",
              "<style scoped>\n",
              "    .dataframe tbody tr th:only-of-type {\n",
              "        vertical-align: middle;\n",
              "    }\n",
              "\n",
              "    .dataframe tbody tr th {\n",
              "        vertical-align: top;\n",
              "    }\n",
              "\n",
              "    .dataframe thead th {\n",
              "        text-align: right;\n",
              "    }\n",
              "</style>\n",
              "<table border=\"1\" class=\"dataframe\">\n",
              "  <thead>\n",
              "    <tr style=\"text-align: right;\">\n",
              "      <th></th>\n",
              "      <th>Alcoholic Beverages</th>\n",
              "      <th>Animal Products</th>\n",
              "      <th>Fish, Seafood</th>\n",
              "      <th>Fruits - Excluding Wine</th>\n",
              "      <th>Meat</th>\n",
              "      <th>Milk - Excluding Butter</th>\n",
              "      <th>Sugar &amp; Sweeteners</th>\n",
              "      <th>Vegetables</th>\n",
              "    </tr>\n",
              "  </thead>\n",
              "  <tbody>\n",
              "    <tr>\n",
              "      <th>0</th>\n",
              "      <td>0</td>\n",
              "      <td>9</td>\n",
              "      <td>0</td>\n",
              "      <td>5</td>\n",
              "      <td>1</td>\n",
              "      <td>7</td>\n",
              "      <td>1</td>\n",
              "      <td>6</td>\n",
              "    </tr>\n",
              "    <tr>\n",
              "      <th>1</th>\n",
              "      <td>1</td>\n",
              "      <td>18</td>\n",
              "      <td>0</td>\n",
              "      <td>6</td>\n",
              "      <td>1</td>\n",
              "      <td>15</td>\n",
              "      <td>1</td>\n",
              "      <td>11</td>\n",
              "    </tr>\n",
              "    <tr>\n",
              "      <th>2</th>\n",
              "      <td>0</td>\n",
              "      <td>9</td>\n",
              "      <td>0</td>\n",
              "      <td>6</td>\n",
              "      <td>1</td>\n",
              "      <td>7</td>\n",
              "      <td>1</td>\n",
              "      <td>11</td>\n",
              "    </tr>\n",
              "    <tr>\n",
              "      <th>3</th>\n",
              "      <td>5</td>\n",
              "      <td>4</td>\n",
              "      <td>1</td>\n",
              "      <td>6</td>\n",
              "      <td>2</td>\n",
              "      <td>0</td>\n",
              "      <td>1</td>\n",
              "      <td>2</td>\n",
              "    </tr>\n",
              "    <tr>\n",
              "      <th>4</th>\n",
              "      <td>3</td>\n",
              "      <td>16</td>\n",
              "      <td>4</td>\n",
              "      <td>10</td>\n",
              "      <td>5</td>\n",
              "      <td>6</td>\n",
              "      <td>3</td>\n",
              "      <td>5</td>\n",
              "    </tr>\n",
              "    <tr>\n",
              "      <th>...</th>\n",
              "      <td>...</td>\n",
              "      <td>...</td>\n",
              "      <td>...</td>\n",
              "      <td>...</td>\n",
              "      <td>...</td>\n",
              "      <td>...</td>\n",
              "      <td>...</td>\n",
              "      <td>...</td>\n",
              "    </tr>\n",
              "    <tr>\n",
              "      <th>165</th>\n",
              "      <td>2</td>\n",
              "      <td>14</td>\n",
              "      <td>0</td>\n",
              "      <td>7</td>\n",
              "      <td>3</td>\n",
              "      <td>9</td>\n",
              "      <td>3</td>\n",
              "      <td>4</td>\n",
              "    </tr>\n",
              "    <tr>\n",
              "      <th>166</th>\n",
              "      <td>1</td>\n",
              "      <td>8</td>\n",
              "      <td>2</td>\n",
              "      <td>5</td>\n",
              "      <td>4</td>\n",
              "      <td>0</td>\n",
              "      <td>1</td>\n",
              "      <td>11</td>\n",
              "    </tr>\n",
              "    <tr>\n",
              "      <th>167</th>\n",
              "      <td>0</td>\n",
              "      <td>5</td>\n",
              "      <td>0</td>\n",
              "      <td>5</td>\n",
              "      <td>2</td>\n",
              "      <td>1</td>\n",
              "      <td>5</td>\n",
              "      <td>3</td>\n",
              "    </tr>\n",
              "    <tr>\n",
              "      <th>168</th>\n",
              "      <td>5</td>\n",
              "      <td>6</td>\n",
              "      <td>1</td>\n",
              "      <td>1</td>\n",
              "      <td>1</td>\n",
              "      <td>1</td>\n",
              "      <td>1</td>\n",
              "      <td>3</td>\n",
              "    </tr>\n",
              "    <tr>\n",
              "      <th>169</th>\n",
              "      <td>4</td>\n",
              "      <td>8</td>\n",
              "      <td>0</td>\n",
              "      <td>2</td>\n",
              "      <td>2</td>\n",
              "      <td>4</td>\n",
              "      <td>4</td>\n",
              "      <td>2</td>\n",
              "    </tr>\n",
              "  </tbody>\n",
              "</table>\n",
              "<p>170 rows × 8 columns</p>\n",
              "</div>\n",
              "      <button class=\"colab-df-convert\" onclick=\"convertToInteractive('df-a1177e0f-9e79-427f-a791-44d8a53aa05c')\"\n",
              "              title=\"Convert this dataframe to an interactive table.\"\n",
              "              style=\"display:none;\">\n",
              "        \n",
              "  <svg xmlns=\"http://www.w3.org/2000/svg\" height=\"24px\"viewBox=\"0 0 24 24\"\n",
              "       width=\"24px\">\n",
              "    <path d=\"M0 0h24v24H0V0z\" fill=\"none\"/>\n",
              "    <path d=\"M18.56 5.44l.94 2.06.94-2.06 2.06-.94-2.06-.94-.94-2.06-.94 2.06-2.06.94zm-11 1L8.5 8.5l.94-2.06 2.06-.94-2.06-.94L8.5 2.5l-.94 2.06-2.06.94zm10 10l.94 2.06.94-2.06 2.06-.94-2.06-.94-.94-2.06-.94 2.06-2.06.94z\"/><path d=\"M17.41 7.96l-1.37-1.37c-.4-.4-.92-.59-1.43-.59-.52 0-1.04.2-1.43.59L10.3 9.45l-7.72 7.72c-.78.78-.78 2.05 0 2.83L4 21.41c.39.39.9.59 1.41.59.51 0 1.02-.2 1.41-.59l7.78-7.78 2.81-2.81c.8-.78.8-2.07 0-2.86zM5.41 20L4 18.59l7.72-7.72 1.47 1.35L5.41 20z\"/>\n",
              "  </svg>\n",
              "      </button>\n",
              "      \n",
              "  <style>\n",
              "    .colab-df-container {\n",
              "      display:flex;\n",
              "      flex-wrap:wrap;\n",
              "      gap: 12px;\n",
              "    }\n",
              "\n",
              "    .colab-df-convert {\n",
              "      background-color: #E8F0FE;\n",
              "      border: none;\n",
              "      border-radius: 50%;\n",
              "      cursor: pointer;\n",
              "      display: none;\n",
              "      fill: #1967D2;\n",
              "      height: 32px;\n",
              "      padding: 0 0 0 0;\n",
              "      width: 32px;\n",
              "    }\n",
              "\n",
              "    .colab-df-convert:hover {\n",
              "      background-color: #E2EBFA;\n",
              "      box-shadow: 0px 1px 2px rgba(60, 64, 67, 0.3), 0px 1px 3px 1px rgba(60, 64, 67, 0.15);\n",
              "      fill: #174EA6;\n",
              "    }\n",
              "\n",
              "    [theme=dark] .colab-df-convert {\n",
              "      background-color: #3B4455;\n",
              "      fill: #D2E3FC;\n",
              "    }\n",
              "\n",
              "    [theme=dark] .colab-df-convert:hover {\n",
              "      background-color: #434B5C;\n",
              "      box-shadow: 0px 1px 3px 1px rgba(0, 0, 0, 0.15);\n",
              "      filter: drop-shadow(0px 1px 2px rgba(0, 0, 0, 0.3));\n",
              "      fill: #FFFFFF;\n",
              "    }\n",
              "  </style>\n",
              "\n",
              "      <script>\n",
              "        const buttonEl =\n",
              "          document.querySelector('#df-a1177e0f-9e79-427f-a791-44d8a53aa05c button.colab-df-convert');\n",
              "        buttonEl.style.display =\n",
              "          google.colab.kernel.accessAllowed ? 'block' : 'none';\n",
              "\n",
              "        async function convertToInteractive(key) {\n",
              "          const element = document.querySelector('#df-a1177e0f-9e79-427f-a791-44d8a53aa05c');\n",
              "          const dataTable =\n",
              "            await google.colab.kernel.invokeFunction('convertToInteractive',\n",
              "                                                     [key], {});\n",
              "          if (!dataTable) return;\n",
              "\n",
              "          const docLinkHtml = 'Like what you see? Visit the ' +\n",
              "            '<a target=\"_blank\" href=https://colab.research.google.com/notebooks/data_table.ipynb>data table notebook</a>'\n",
              "            + ' to learn more about interactive tables.';\n",
              "          element.innerHTML = '';\n",
              "          dataTable['output_type'] = 'display_data';\n",
              "          await google.colab.output.renderOutput(dataTable, element);\n",
              "          const docLink = document.createElement('div');\n",
              "          docLink.innerHTML = docLinkHtml;\n",
              "          element.appendChild(docLink);\n",
              "        }\n",
              "      </script>\n",
              "    </div>\n",
              "  </div>\n",
              "  "
            ]
          },
          "metadata": {},
          "execution_count": 127
        }
      ]
    },
    {
      "cell_type": "markdown",
      "source": [
        "I created a variable and named it 'y' and it includes the 'Confirmed' column which is my independent variable."
      ],
      "metadata": {
        "id": "_tyiM3aT9OMg"
      }
    },
    {
      "cell_type": "code",
      "source": [
        "y = diet_n['Confirmed']\n",
        "y"
      ],
      "metadata": {
        "colab": {
          "base_uri": "https://localhost:8080/"
        },
        "id": "R3Le2vRdRaSh",
        "outputId": "71b64f35-47d5-4dfc-8a4e-c6c11ffe270e"
      },
      "execution_count": null,
      "outputs": [
        {
          "output_type": "execute_result",
          "data": {
            "text/plain": [
              "0      0\n",
              "1      2\n",
              "2      0\n",
              "3      0\n",
              "4      0\n",
              "      ..\n",
              "165    0\n",
              "166    0\n",
              "167    0\n",
              "168    0\n",
              "169    0\n",
              "Name: Confirmed, Length: 170, dtype: int64"
            ]
          },
          "metadata": {},
          "execution_count": 128
        }
      ]
    },
    {
      "cell_type": "markdown",
      "source": [
        "Now we will use train test split to evaluate the performance of each model\n",
        "\n",
        "\n",
        "\n"
      ],
      "metadata": {
        "id": "iEg3bNXxU_ej"
      }
    },
    {
      "cell_type": "code",
      "source": [
        "from sklearn.model_selection import train_test_split\n",
        "X_train, X_test, y_train, y_test = train_test_split(X,y,test_size=0.3)"
      ],
      "metadata": {
        "id": "yfumgPKKVs70"
      },
      "execution_count": null,
      "outputs": []
    },
    {
      "cell_type": "markdown",
      "source": [
        "Although I can see in the graphs above that there isn't a clear linear relationship between the independent and dependent variables I will still test the data using the Linear Regression Classifier\n",
        "\n",
        "First, I import LinearRegression from sklearn"
      ],
      "metadata": {
        "id": "00Nhmy72Gh1G"
      }
    },
    {
      "cell_type": "code",
      "source": [
        "from sklearn.linear_model import LinearRegression\n",
        "model = LinearRegression()"
      ],
      "metadata": {
        "id": "0RMfCr8UGIdo"
      },
      "execution_count": null,
      "outputs": []
    },
    {
      "cell_type": "markdown",
      "source": [
        "Then I fit the training data with model.fit\n"
      ],
      "metadata": {
        "id": "ZPTK8WCvHbXU"
      }
    },
    {
      "cell_type": "code",
      "source": [
        "model.fit(X_train, y_train)"
      ],
      "metadata": {
        "colab": {
          "base_uri": "https://localhost:8080/"
        },
        "id": "knya7qWIuIUY",
        "outputId": "ca0aa51f-a153-4383-a199-661e757d93f2"
      },
      "execution_count": null,
      "outputs": [
        {
          "output_type": "execute_result",
          "data": {
            "text/plain": [
              "LinearRegression()"
            ]
          },
          "metadata": {},
          "execution_count": 131
        }
      ]
    },
    {
      "cell_type": "markdown",
      "source": [
        "Now I will score my data or test it for accuracy. My Linear Regression model is only 32% accurate which is very low. So I will repeat the same process for Logistic Regression"
      ],
      "metadata": {
        "id": "t96ijHnpHAdp"
      }
    },
    {
      "cell_type": "code",
      "source": [
        "model.score(X_test, y_test)"
      ],
      "metadata": {
        "colab": {
          "base_uri": "https://localhost:8080/"
        },
        "id": "-H8jeDkRuLmV",
        "outputId": "db650626-78d4-44be-87e4-5f987a0c2f97"
      },
      "execution_count": null,
      "outputs": [
        {
          "output_type": "execute_result",
          "data": {
            "text/plain": [
              "0.3684219643627701"
            ]
          },
          "metadata": {},
          "execution_count": 132
        }
      ]
    },
    {
      "cell_type": "markdown",
      "source": [
        "**Logistic Regression**"
      ],
      "metadata": {
        "id": "mvXGRQl2HUKB"
      }
    },
    {
      "cell_type": "code",
      "source": [
        "from sklearn.linear_model import LogisticRegression\n",
        "model = LogisticRegression()"
      ],
      "metadata": {
        "id": "EdDMmvhRcsIq"
      },
      "execution_count": null,
      "outputs": []
    },
    {
      "cell_type": "code",
      "source": [
        "model.fit(X_train, y_train)"
      ],
      "metadata": {
        "colab": {
          "base_uri": "https://localhost:8080/"
        },
        "id": "vI4GHHhijJ_n",
        "outputId": "f02fc96c-aaa0-4644-ae88-4ac64f20abed"
      },
      "execution_count": null,
      "outputs": [
        {
          "output_type": "stream",
          "name": "stderr",
          "text": [
            "/usr/local/lib/python3.7/dist-packages/sklearn/linear_model/_logistic.py:818: ConvergenceWarning: lbfgs failed to converge (status=1):\n",
            "STOP: TOTAL NO. of ITERATIONS REACHED LIMIT.\n",
            "\n",
            "Increase the number of iterations (max_iter) or scale the data as shown in:\n",
            "    https://scikit-learn.org/stable/modules/preprocessing.html\n",
            "Please also refer to the documentation for alternative solver options:\n",
            "    https://scikit-learn.org/stable/modules/linear_model.html#logistic-regression\n",
            "  extra_warning_msg=_LOGISTIC_SOLVER_CONVERGENCE_MSG,\n"
          ]
        },
        {
          "output_type": "execute_result",
          "data": {
            "text/plain": [
              "LogisticRegression()"
            ]
          },
          "metadata": {},
          "execution_count": 134
        }
      ]
    },
    {
      "cell_type": "code",
      "source": [
        "model.score(X_test, y_test)"
      ],
      "metadata": {
        "colab": {
          "base_uri": "https://localhost:8080/"
        },
        "id": "st_OZNjUt45x",
        "outputId": "f81a829a-c457-4614-a744-d8ed8c35ef88"
      },
      "execution_count": null,
      "outputs": [
        {
          "output_type": "execute_result",
          "data": {
            "text/plain": [
              "0.45098039215686275"
            ]
          },
          "metadata": {},
          "execution_count": 135
        }
      ]
    },
    {
      "cell_type": "markdown",
      "source": [
        "Of the two Logistic Regression scored higher but the accuracy score is still very low at 33%\n",
        "\n",
        "Now I will try cross validation. Cross validation uses training data to get estimates on how well our model will perform on data we haven't seen before.\n",
        "\n",
        "I will begin by importing cross_val_score from sklearn and use the Logistic Regression Classifier and the Average() Method to find the average of the scores. I will repeat this process with Decision Tree, SVC and Random Forest Classifier"
      ],
      "metadata": {
        "id": "j4YqmNWQCClN"
      }
    },
    {
      "cell_type": "code",
      "source": [
        "from sklearn.model_selection import cross_val_score\n",
        "l_scores = cross_val_score(LogisticRegression(), X, y,cv=3)\n",
        "l_scores"
      ],
      "metadata": {
        "colab": {
          "base_uri": "https://localhost:8080/"
        },
        "id": "Lqjt6546uabw",
        "outputId": "1d9d8cf2-1ae0-401d-a6cc-11206328d061"
      },
      "execution_count": null,
      "outputs": [
        {
          "output_type": "stream",
          "name": "stderr",
          "text": [
            "/usr/local/lib/python3.7/dist-packages/sklearn/model_selection/_split.py:680: UserWarning: The least populated class in y has only 1 members, which is less than n_splits=3.\n",
            "  UserWarning,\n",
            "/usr/local/lib/python3.7/dist-packages/sklearn/linear_model/_logistic.py:818: ConvergenceWarning: lbfgs failed to converge (status=1):\n",
            "STOP: TOTAL NO. of ITERATIONS REACHED LIMIT.\n",
            "\n",
            "Increase the number of iterations (max_iter) or scale the data as shown in:\n",
            "    https://scikit-learn.org/stable/modules/preprocessing.html\n",
            "Please also refer to the documentation for alternative solver options:\n",
            "    https://scikit-learn.org/stable/modules/linear_model.html#logistic-regression\n",
            "  extra_warning_msg=_LOGISTIC_SOLVER_CONVERGENCE_MSG,\n",
            "/usr/local/lib/python3.7/dist-packages/sklearn/linear_model/_logistic.py:818: ConvergenceWarning: lbfgs failed to converge (status=1):\n",
            "STOP: TOTAL NO. of ITERATIONS REACHED LIMIT.\n",
            "\n",
            "Increase the number of iterations (max_iter) or scale the data as shown in:\n",
            "    https://scikit-learn.org/stable/modules/preprocessing.html\n",
            "Please also refer to the documentation for alternative solver options:\n",
            "    https://scikit-learn.org/stable/modules/linear_model.html#logistic-regression\n",
            "  extra_warning_msg=_LOGISTIC_SOLVER_CONVERGENCE_MSG,\n",
            "/usr/local/lib/python3.7/dist-packages/sklearn/linear_model/_logistic.py:818: ConvergenceWarning: lbfgs failed to converge (status=1):\n",
            "STOP: TOTAL NO. of ITERATIONS REACHED LIMIT.\n",
            "\n",
            "Increase the number of iterations (max_iter) or scale the data as shown in:\n",
            "    https://scikit-learn.org/stable/modules/preprocessing.html\n",
            "Please also refer to the documentation for alternative solver options:\n",
            "    https://scikit-learn.org/stable/modules/linear_model.html#logistic-regression\n",
            "  extra_warning_msg=_LOGISTIC_SOLVER_CONVERGENCE_MSG,\n"
          ]
        },
        {
          "output_type": "execute_result",
          "data": {
            "text/plain": [
              "array([0.40350877, 0.47368421, 0.42857143])"
            ]
          },
          "metadata": {},
          "execution_count": 136
        }
      ]
    },
    {
      "cell_type": "code",
      "source": [
        "np.average(l_scores)"
      ],
      "metadata": {
        "colab": {
          "base_uri": "https://localhost:8080/"
        },
        "id": "ypxsQnA9um6c",
        "outputId": "07b8bd5b-1faf-420f-fb9d-f0dee90f940b"
      },
      "execution_count": null,
      "outputs": [
        {
          "output_type": "execute_result",
          "data": {
            "text/plain": [
              "0.4352548036758563"
            ]
          },
          "metadata": {},
          "execution_count": 137
        }
      ]
    },
    {
      "cell_type": "markdown",
      "source": [
        "**Decision Tree**"
      ],
      "metadata": {
        "id": "HdB_llpAEH2f"
      }
    },
    {
      "cell_type": "code",
      "source": [
        "from sklearn.tree import DecisionTreeClassifier\n",
        "clf = DecisionTreeClassifier(random_state=0)\n",
        "d_scores = cross_val_score(clf, X, y, cv=3)\n",
        "d_scores"
      ],
      "metadata": {
        "colab": {
          "base_uri": "https://localhost:8080/"
        },
        "id": "hy-LlDkcurOk",
        "outputId": "9f69b16f-6b16-4711-9dc5-4c4c6b3a9f84"
      },
      "execution_count": null,
      "outputs": [
        {
          "output_type": "stream",
          "name": "stderr",
          "text": [
            "/usr/local/lib/python3.7/dist-packages/sklearn/model_selection/_split.py:680: UserWarning: The least populated class in y has only 1 members, which is less than n_splits=3.\n",
            "  UserWarning,\n"
          ]
        },
        {
          "output_type": "execute_result",
          "data": {
            "text/plain": [
              "array([0.40350877, 0.36842105, 0.39285714])"
            ]
          },
          "metadata": {},
          "execution_count": 138
        }
      ]
    },
    {
      "cell_type": "code",
      "source": [
        "np.average(d_scores)"
      ],
      "metadata": {
        "colab": {
          "base_uri": "https://localhost:8080/"
        },
        "id": "G9EMJO71u7Sb",
        "outputId": "bedb0711-9cc1-4ff5-dbfe-cfe3f023fbeb"
      },
      "execution_count": null,
      "outputs": [
        {
          "output_type": "execute_result",
          "data": {
            "text/plain": [
              "0.38826232247284875"
            ]
          },
          "metadata": {},
          "execution_count": 139
        }
      ]
    },
    {
      "cell_type": "markdown",
      "source": [
        "**SVC**"
      ],
      "metadata": {
        "id": "MeS2IPHRElIU"
      }
    },
    {
      "cell_type": "code",
      "source": [
        "from sklearn.svm import SVC\n",
        "s_scores = cross_val_score(SVC(gamma='auto'), X, y,cv=3)\n",
        "s_scores"
      ],
      "metadata": {
        "colab": {
          "base_uri": "https://localhost:8080/"
        },
        "id": "kgsIh2Rpu8_B",
        "outputId": "6fcd19a4-8bc1-4bd4-94bb-ab2c61dd5069"
      },
      "execution_count": null,
      "outputs": [
        {
          "output_type": "stream",
          "name": "stderr",
          "text": [
            "/usr/local/lib/python3.7/dist-packages/sklearn/model_selection/_split.py:680: UserWarning: The least populated class in y has only 1 members, which is less than n_splits=3.\n",
            "  UserWarning,\n"
          ]
        },
        {
          "output_type": "execute_result",
          "data": {
            "text/plain": [
              "array([0.47368421, 0.49122807, 0.48214286])"
            ]
          },
          "metadata": {},
          "execution_count": 140
        }
      ]
    },
    {
      "cell_type": "code",
      "source": [
        "np.average(s_scores)"
      ],
      "metadata": {
        "colab": {
          "base_uri": "https://localhost:8080/"
        },
        "id": "69afsoVVvDq2",
        "outputId": "6b7394aa-9cc4-4c10-eaca-c5176786b41c"
      },
      "execution_count": null,
      "outputs": [
        {
          "output_type": "execute_result",
          "data": {
            "text/plain": [
              "0.4823517126148705"
            ]
          },
          "metadata": {},
          "execution_count": 141
        }
      ]
    },
    {
      "cell_type": "markdown",
      "source": [
        "**Random Forest** "
      ],
      "metadata": {
        "id": "7AR12B9aEvTV"
      }
    },
    {
      "cell_type": "code",
      "source": [
        "from sklearn.ensemble import RandomForestClassifier\n",
        "r_scores = cross_val_score(RandomForestClassifier(n_estimators=150),X, y,cv=3)\n",
        "r_scores"
      ],
      "metadata": {
        "colab": {
          "base_uri": "https://localhost:8080/"
        },
        "id": "TsBdNmOavGmV",
        "outputId": "1fffc306-3617-41e9-ca58-ebaf8e7674e4"
      },
      "execution_count": null,
      "outputs": [
        {
          "output_type": "stream",
          "name": "stderr",
          "text": [
            "/usr/local/lib/python3.7/dist-packages/sklearn/model_selection/_split.py:680: UserWarning: The least populated class in y has only 1 members, which is less than n_splits=3.\n",
            "  UserWarning,\n"
          ]
        },
        {
          "output_type": "execute_result",
          "data": {
            "text/plain": [
              "array([0.49122807, 0.49122807, 0.46428571])"
            ]
          },
          "metadata": {},
          "execution_count": 142
        }
      ]
    },
    {
      "cell_type": "code",
      "source": [
        "np.average(r_scores)"
      ],
      "metadata": {
        "colab": {
          "base_uri": "https://localhost:8080/"
        },
        "id": "K4-10pTXvK5r",
        "outputId": "8dbb8a02-41fe-4c78-c95b-f328f71a18d6"
      },
      "execution_count": null,
      "outputs": [
        {
          "output_type": "execute_result",
          "data": {
            "text/plain": [
              "0.48224728487886387"
            ]
          },
          "metadata": {},
          "execution_count": 143
        }
      ]
    },
    {
      "cell_type": "markdown",
      "source": [
        "Our accuracy score is increasing and Random Forest has scored the best but still isn't high enough at 48% accuracy"
      ],
      "metadata": {
        "id": "L2P5ucl-Ij-P"
      }
    },
    {
      "cell_type": "markdown",
      "source": [
        "After analyzing and evaluating the data there does not seem to be a coorelation between a healthy diet and COVID 19 recovery."
      ],
      "metadata": {
        "id": "nhed42Y9OhaZ"
      }
    }
  ]
}